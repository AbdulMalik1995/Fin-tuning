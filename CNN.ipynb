{
  "cells": [
    {
      "cell_type": "code",
      "execution_count": null,
      "metadata": {
        "id": "AKwW0QvF1ZrY"
      },
      "outputs": [],
      "source": [
        "import cv2\n",
        "import zipfile\n",
        "import copy\n",
        "import torch\n",
        "import torch.nn as nn\n",
        "import pandas as pd\n",
        "import matplotlib.pyplot as plt\n",
        "import os\n",
        "import sys\n",
        "import pandas as pd\n",
        "import torch.optim as optim\n",
        "import shutil\n",
        "import pickle\n",
        "import torch.nn.functional as F\n",
        "import shutil\n",
        "import os\n",
        "import pandas as pd\n",
        "from torchvision.io import read_image\n",
        "from torch.utils.data import Dataset\n",
        "from torchvision import datasets\n",
        "from torch.utils.data import Subset\n",
        "from sklearn.model_selection import train_test_split\n",
        "from torchvision.transforms import Compose, ToTensor, Resize\n",
        "from torch.utils.data import DataLoader\n",
        "from torchvision import datasets, models, transforms\n",
        "from google.colab.patches import cv2_imshow\n",
        "from torchvision.transforms.transforms import ToPILImage\n",
        "from sklearn.model_selection import train_test_split"
      ]
    },
    {
      "cell_type": "code",
      "execution_count": null,
      "metadata": {
        "colab": {
          "base_uri": "https://localhost:8080/"
        },
        "id": "QhCI__j11cdM",
        "outputId": "87c17f3d-966c-4c5b-dd89-239822dc4603"
      },
      "outputs": [
        {
          "output_type": "stream",
          "name": "stdout",
          "text": [
            "Mounted at /content/drive\n"
          ]
        }
      ],
      "source": [
        "from google.colab import drive\n",
        "drive.mount('/content/drive')"
      ]
    },
    {
      "cell_type": "code",
      "execution_count": null,
      "metadata": {
        "id": "byJ9GPSAaaPZ"
      },
      "outputs": [],
      "source": [
        "shutil.rmtree(\"/content/drive/MyDrive/minset/train\")"
      ]
    },
    {
      "cell_type": "code",
      "execution_count": null,
      "metadata": {
        "id": "pzBg0GPz7QPd",
        "colab": {
          "base_uri": "https://localhost:8080/",
          "height": 246
        },
        "outputId": "86fc7a9c-59b2-4fb1-ef57-e3af15d503a6"
      },
      "outputs": [
        {
          "output_type": "error",
          "ename": "FileExistsError",
          "evalue": "ignored",
          "traceback": [
            "\u001b[0;31m---------------------------------------------------------------------------\u001b[0m",
            "\u001b[0;31mFileExistsError\u001b[0m                           Traceback (most recent call last)",
            "\u001b[0;32m<ipython-input-3-8ccd9e4162e8>\u001b[0m in \u001b[0;36m<module>\u001b[0;34m()\u001b[0m\n\u001b[1;32m      1\u001b[0m \u001b[0;31m#shutil.rmtree(\"/content/drive/MyDrive/minset\")\u001b[0m\u001b[0;34m\u001b[0m\u001b[0;34m\u001b[0m\u001b[0;34m\u001b[0m\u001b[0m\n\u001b[1;32m      2\u001b[0m \u001b[0;34m\u001b[0m\u001b[0m\n\u001b[0;32m----> 3\u001b[0;31m \u001b[0mos\u001b[0m\u001b[0;34m.\u001b[0m\u001b[0mmkdir\u001b[0m\u001b[0;34m(\u001b[0m\u001b[0;34m\"/content/\"\u001b[0m\u001b[0;34m)\u001b[0m\u001b[0;34m\u001b[0m\u001b[0;34m\u001b[0m\u001b[0m\n\u001b[0m\u001b[1;32m      4\u001b[0m \u001b[0;31m#os.mkdir(\"/content/drive/MyDrive/minset/train\")\u001b[0m\u001b[0;34m\u001b[0m\u001b[0;34m\u001b[0m\u001b[0;34m\u001b[0m\u001b[0m\n\u001b[1;32m      5\u001b[0m \u001b[0;31m#os.mkdir(\"/content/drive/MyDrive/minset/test\")\u001b[0m\u001b[0;34m\u001b[0m\u001b[0;34m\u001b[0m\u001b[0;34m\u001b[0m\u001b[0m\n",
            "\u001b[0;31mFileExistsError\u001b[0m: [Errno 17] File exists: '/content/'"
          ]
        }
      ],
      "source": [
        "#shutil.rmtree(\"/content/drive/MyDrive/minset\")\n",
        "\n",
        "os.mkdir(\"/content/\")\n",
        "#os.mkdir(\"/content/drive/MyDrive/minset/train\")\n",
        "#os.mkdir(\"/content/drive/MyDrive/minset/test\")"
      ]
    },
    {
      "cell_type": "code",
      "execution_count": null,
      "metadata": {
        "id": "3z48MB1d3eRj"
      },
      "outputs": [],
      "source": [
        "##!unzip \"/content/drive/MyDrive/CelebA.zip\"\n",
        "!unzip -q \"/content/drive/MyDrive/Assign2Dataset/train.zip\" -d \"content/\""
      ]
    },
    {
      "cell_type": "code",
      "execution_count": null,
      "metadata": {
        "id": "voM82fg46mkz"
      },
      "outputs": [],
      "source": [
        "!unzip -q \"/content/drive/MyDrive/Assign2Dataset/test.zip\" -d \"/content/\""
      ]
    },
    {
      "cell_type": "code",
      "execution_count": null,
      "metadata": {
        "colab": {
          "base_uri": "https://localhost:8080/"
        },
        "id": "mhWRFAi5DwMi",
        "outputId": "d027cbd7-e134-488d-9673-0af7be532e00"
      },
      "outputs": [
        {
          "name": "stdout",
          "output_type": "stream",
          "text": [
            "348\t/content/drive/MyDrive/Assign2Dataset/Data/test/test_new\n"
          ]
        }
      ],
      "source": [
        "!du -s /content/drive/MyDrive/Assign2Dataset/Data/test/test_new"
      ]
    },
    {
      "cell_type": "code",
      "execution_count": null,
      "metadata": {
        "colab": {
          "base_uri": "https://localhost:8080/"
        },
        "id": "p-x8uGAjEHSf",
        "outputId": "25f60474-cdcb-4103-895a-835223568e1c"
      },
      "outputs": [
        {
          "name": "stdout",
          "output_type": "stream",
          "text": [
            "21739\t/content/drive/MyDrive/minset/train/train_new\n"
          ]
        }
      ],
      "source": [
        "!du -s /content/drive/MyDrive/minset/train/train_new"
      ]
    },
    {
      "cell_type": "code",
      "source": [
        "def train_val_loss_graph(epochs,train_loss_list,val_loss_list):\n",
        "  epochs_list = range(1,11)\n",
        "  plt.plot(epochs_list, train_loss_list, 'g', label='Training loss')\n",
        "  plt.plot(epochs_list, val_loss_list, 'b', label='validation loss')\n",
        "  plt.title('Training and Validation loss')\n",
        "  plt.xlabel('Epochs')\n",
        "  plt.ylabel('Loss')\n",
        "  plt.legend()\n",
        "  plt.show()"
      ],
      "metadata": {
        "id": "UYfj5dNfZiqw"
      },
      "execution_count": null,
      "outputs": []
    },
    {
      "cell_type": "code",
      "source": [
        "from typing import NewType\n",
        "def save_model(best_model):\n",
        "  torch.save({\n",
        "          \"model_state_dict\":best_model\n",
        "      },\"/content/drive/MyDrive/minset/model_1.pt\")\n",
        "  \n"
      ],
      "metadata": {
        "id": "gNCEh-YCaTvA"
      },
      "execution_count": null,
      "outputs": []
    },
    {
      "cell_type": "code",
      "source": [
        "from tqdm import tqdm\n",
        "import numpy as np\n",
        "def train_model(epochs,train_set,val_set,model,optimizer,loss_function):\n",
        "  device = torch.device(\"cuda:0\" if torch.cuda.is_available() else \"cpu\")\n",
        "  print(\"device\",device)\n",
        "  train_loss_list=[]\n",
        "  val_loss_list=[]\n",
        "  train_acc_list=[]\n",
        "  val_acc_list=[]\n",
        "  best_acc = 0\n",
        "  current_epoch=1\n",
        "  while current_epoch <= epochs:\n",
        "    print(current_epoch)\n",
        "    current_epoch +=1\n",
        "    running_loss = 0.0\n",
        "    running_corrects = 0\n",
        "    model.train()\n",
        "    for inputs,labels in tqdm(train_set):\n",
        "      labels = torch.tensor(labels)\n",
        "      #print(type(labels),\"labe;ls\")\n",
        "      inputs = inputs.to(device)\n",
        "      labels = labels.to(device)\n",
        "      optimizer.zero_grad()\n",
        "      #print(\"here\")\n",
        "      #print(\"inputs\",inputs)\n",
        "      #print(\"here_0\")\n",
        "      outputs = model(inputs)\n",
        "      #print(\"here_1\")\n",
        "      loss = loss_function(outputs, labels)\n",
        "      _, preds = torch.max(outputs, 1)\n",
        "      \n",
        "      loss.backward()\n",
        "      optimizer.step()\n",
        "      running_loss += loss.item() * inputs.size(0)\n",
        "      running_corrects += torch.sum(preds == labels.data)\n",
        "    #print(\"test2\",running_corrects.double)\n",
        "    #print(len(train_set.dataset))  \n",
        "    epoch_loss = running_loss / len(train_set.dataset)\n",
        "    epoch_acc = running_corrects.double() / len(train_set.dataset)\n",
        "    train_loss_list.append(epoch_loss)\n",
        "    train_acc_list.append(epoch_acc)\n",
        "    print('epoch train Loss: {:.3f} Acc: {:.3f}'.format( epoch_loss, epoch_acc))\n",
        "\n",
        "    model.eval()\n",
        "    running_loss = 0.0\n",
        "    running_corrects = 0\n",
        "    for inputs,labels in tqdm(val_set):\n",
        "      #print(type(inputs),\" >>>type\")\n",
        "      #labels = torch.tensor(labels)\n",
        "      #print(type(labels),\" >>>type\")\n",
        "      inputs = inputs.to(device)\n",
        "      labels = labels.to(device)\n",
        "      optimizer.zero_grad()\n",
        "      outputs = model(inputs)\n",
        "      #print(\"here\")\n",
        "      loss = loss_function(outputs, labels)\n",
        "      _, preds = torch.max(outputs, 1)\n",
        "      running_loss += loss.item()*inputs.size(0)\n",
        "      x = preds.cpu().detach().numpy()\n",
        "      y = labels.cpu().detach().numpy()\n",
        "      #print(\"x >>>>>>>\",x,\"y >>>>>\", y)\n",
        "      #print(\"summm \",np.sum(x == y))\n",
        "      running_corrects += torch.sum(preds == labels)\n",
        "      #print(\"test\",running_corrects.double)\n",
        "    epoch_loss = running_loss / len(val_set.dataset)\n",
        "    epoch_acc = running_corrects.double() / len(val_set.dataset)\n",
        "    print('epoch val Loss: {:.4f} Acc: {:.4f}'.format(epoch_loss, epoch_acc))\n",
        "    val_loss_list.append(epoch_loss)\n",
        "    val_acc_list.append(epoch_acc)\n",
        "    if best_acc < epoch_acc or current_epoch == epochs:\n",
        "      best_acc = epoch_acc\n",
        "      best_model = copy.deepcopy(model.state_dict())\n",
        "      save_model(best_model)\n",
        "  return model,train_loss_list,train_acc_list,val_loss_list,val_acc_list,best_model"
      ],
      "metadata": {
        "id": "qEr3BV-CaYRx"
      },
      "execution_count": null,
      "outputs": []
    },
    {
      "cell_type": "code",
      "source": [
        "def test(model,test_data,loss_function):\n",
        "  \n",
        "  device = torch.device(\"cuda:0\" if torch.cuda.is_available() else \"cpu\")\n",
        "  running_loss = 0\n",
        "  running_corrects=0\n",
        "  label = []\n",
        "  output = []\n",
        "  for inputs,labels in test_data:\n",
        "   inputs = inputs.to(device)\n",
        "   labels = labels.to(device)\n",
        "   model = model.to(device)\n",
        "   outputs = model(inputs)\n",
        "   label.append(labels)\n",
        "   #output.append(outputs)\n",
        "   _, preds = torch.max(outputs, 1)\n",
        "   output.append(preds)\n",
        "   loss = loss_function(outputs, labels)\n",
        "   running_loss += loss.item() * inputs.size(0)\n",
        "   running_corrects += torch.sum(preds == labels.data)\n",
        "  loss = running_loss/len(test_data.dataset)\n",
        "  accuracy = running_corrects.double() / len(test_data.dataset)\n",
        "  return_list =[output, label,loss,accuracy]\n",
        "  return return_list"
      ],
      "metadata": {
        "id": "yP--Cf-Ba5iW"
      },
      "execution_count": null,
      "outputs": []
    },
    {
      "cell_type": "code",
      "source": [
        "def plot_confusion_matrix(real_labels, predictions):\n",
        "    df_cm = confusion_matrix(real_labels,predictions, labels=list(range(10)))\n",
        "    (sn.heatmap(df_cm, annot=True))"
      ],
      "metadata": {
        "id": "HnomnWccAU8F"
      },
      "execution_count": null,
      "outputs": []
    },
    {
      "cell_type": "code",
      "source": [
        "def list_of_tensor_to_array(tensor_list):\n",
        "  my_list = []\n",
        "  for i in tensor_list:\n",
        "    for j in i.cpu().detach():\n",
        "      my_list.append(j.numpy())\n",
        "  return my_list    "
      ],
      "metadata": {
        "id": "DgPWIP_WAn0Y"
      },
      "execution_count": null,
      "outputs": []
    },
    {
      "cell_type": "code",
      "execution_count": null,
      "metadata": {
        "colab": {
          "base_uri": "https://localhost:8080/",
          "height": 110
        },
        "id": "9Rz9qBky9Rn0",
        "outputId": "7afe7f4f-f499-4346-9121-3f9bb05cfacb"
      },
      "outputs": [
        {
          "output_type": "stream",
          "name": "stdout",
          "text": [
            "43470\n"
          ]
        },
        {
          "output_type": "execute_result",
          "data": {
            "text/plain": [
              "'\\ntest_idx, val_idx =train_test_split([i for i in range(len(test_set_1))], test_size=.50)\\ntest_set = Subset(test_set_1, test_idx)\\nval_set= Subset(test_set_1 ,val_idx)\\n\\ntest_loader = torch.utils.data.DataLoader(test_set, batch_size=100,\\n                                          shuffle=True,pin_memory=True,num_workers=2)\\n\\nval_loader = torch.utils.data.DataLoader(val_set, batch_size=100,\\n                                          shuffle=True,pin_memory=True,num_workers=2)\\n'"
            ],
            "application/vnd.google.colaboratory.intrinsic+json": {
              "type": "string"
            }
          },
          "metadata": {},
          "execution_count": 11
        }
      ],
      "source": [
        "\n",
        "\n",
        "transform=transforms.Compose([transforms.ToPILImage(),\n",
        "                              transforms.ToTensor(),\n",
        "                              ])\n",
        "class CustomImageDataset(Dataset):\n",
        "    def __init__(self, annotations_file, img_dir, transform=transform, target_transform=None):\n",
        "        df  = pd.read_csv(annotations_file)\n",
        "        self.img_labels = df\n",
        "        self.img_dir = img_dir\n",
        "        self.transform = transform\n",
        "        self.target_transform = target_transform\n",
        "\n",
        "    def __len__(self):\n",
        "        return len(self.img_labels)\n",
        "\n",
        "    def __getitem__(self, idx):\n",
        "        img_path = os.path.join(self.img_dir, str(self.img_labels.iloc[idx, 0]))\n",
        "        image = read_image(img_path)\n",
        "        #print(\"type >>>  \", image)\n",
        "        label = self.img_labels.iloc[idx, 1]\n",
        "        if self.transform:\n",
        "            image = self.transform(image)\n",
        "        if self.target_transform:\n",
        "            label = self.target_transform(label)\n",
        "        return image, label\n",
        "\n",
        "\n",
        "\n",
        "\n",
        " \n",
        "train_set_1 = CustomImageDataset(\"/content/drive/MyDrive/minset/updated_csv.csv\",\"/content/content/train_new\")\n",
        "train_loader_1 = torch.utils.data.DataLoader(train_set_1, batch_size=100, shuffle = True)\n",
        "            \n",
        "print(len(train_set_1))\n",
        "\n",
        "\n",
        "test_set_1 = CustomImageDataset(\"/content/drive/MyDrive/minset/test.csv\",\"/content/test_new\")\n",
        "test_loader = torch.utils.data.DataLoader(test_set_1, batch_size=100,\n",
        "                                          shuffle=True)\n",
        "\n",
        "val_set = CustomImageDataset(\"/content/drive/MyDrive/minset/val.csv\",\"/content/test_new\")\n",
        "val_loader = torch.utils.data.DataLoader(val_set, batch_size=100,\n",
        "                                          shuffle=True)\n",
        "\n",
        "'''\n",
        "test_idx, val_idx =train_test_split([i for i in range(len(test_set_1))], test_size=.50)\n",
        "test_set = Subset(test_set_1, test_idx)\n",
        "val_set= Subset(test_set_1 ,val_idx)\n",
        "\n",
        "test_loader = torch.utils.data.DataLoader(test_set, batch_size=100,\n",
        "                                          shuffle=True,pin_memory=True,num_workers=2)\n",
        "\n",
        "val_loader = torch.utils.data.DataLoader(val_set, batch_size=100,\n",
        "                                          shuffle=True,pin_memory=True,num_workers=2)\n",
        "'''\n"
      ]
    },
    {
      "cell_type": "code",
      "execution_count": null,
      "metadata": {
        "colab": {
          "base_uri": "https://localhost:8080/"
        },
        "id": "BO5H47hN1XCZ",
        "outputId": "1ad9ce8d-9472-4ba5-fb46-5e086c3a444a"
      },
      "outputs": [
        {
          "output_type": "stream",
          "name": "stdout",
          "text": [
            "Net(\n",
            "  (model): Sequential(\n",
            "    (0): Conv2d(1, 3, kernel_size=(3, 3), stride=(1, 1))\n",
            "    (1): Sequential(\n",
            "      (0): Conv2d(3, 32, kernel_size=(3, 3), stride=(2, 2), padding=(1, 1), bias=False)\n",
            "      (1): BatchNorm2d(32, eps=1e-05, momentum=0.1, affine=True, track_running_stats=True)\n",
            "      (2): ReLU(inplace=True)\n",
            "    )\n",
            "    (2): Sequential(\n",
            "      (0): Conv2d(32, 32, kernel_size=(3, 3), stride=(1, 1), padding=(1, 1), groups=32, bias=False)\n",
            "      (1): BatchNorm2d(32, eps=1e-05, momentum=0.1, affine=True, track_running_stats=True)\n",
            "      (2): ReLU(inplace=True)\n",
            "      (3): Conv2d(32, 64, kernel_size=(1, 1), stride=(1, 1), bias=False)\n",
            "      (4): BatchNorm2d(64, eps=1e-05, momentum=0.1, affine=True, track_running_stats=True)\n",
            "      (5): ReLU(inplace=True)\n",
            "    )\n",
            "    (3): Sequential(\n",
            "      (0): Conv2d(64, 64, kernel_size=(3, 3), stride=(2, 2), padding=(1, 1), groups=64, bias=False)\n",
            "      (1): BatchNorm2d(64, eps=1e-05, momentum=0.1, affine=True, track_running_stats=True)\n",
            "      (2): ReLU(inplace=True)\n",
            "      (3): Conv2d(64, 128, kernel_size=(1, 1), stride=(1, 1), bias=False)\n",
            "      (4): BatchNorm2d(128, eps=1e-05, momentum=0.1, affine=True, track_running_stats=True)\n",
            "      (5): ReLU(inplace=True)\n",
            "    )\n",
            "    (4): Sequential(\n",
            "      (0): Conv2d(128, 128, kernel_size=(3, 3), stride=(1, 1), padding=(1, 1), groups=128, bias=False)\n",
            "      (1): BatchNorm2d(128, eps=1e-05, momentum=0.1, affine=True, track_running_stats=True)\n",
            "      (2): ReLU(inplace=True)\n",
            "      (3): Conv2d(128, 128, kernel_size=(1, 1), stride=(1, 1), bias=False)\n",
            "      (4): BatchNorm2d(128, eps=1e-05, momentum=0.1, affine=True, track_running_stats=True)\n",
            "      (5): ReLU(inplace=True)\n",
            "    )\n",
            "    (5): AvgPool2d(kernel_size=7, stride=7, padding=0)\n",
            "  )\n",
            "  (fc): Linear(in_features=128, out_features=10, bias=True)\n",
            ")\n",
            "device cuda:0\n",
            "1\n"
          ]
        },
        {
          "output_type": "stream",
          "name": "stderr",
          "text": [
            "  0%|          | 0/435 [00:00<?, ?it/s]/usr/local/lib/python3.7/dist-packages/ipykernel_launcher.py:19: UserWarning: To copy construct from a tensor, it is recommended to use sourceTensor.clone().detach() or sourceTensor.clone().detach().requires_grad_(True), rather than torch.tensor(sourceTensor).\n",
            "100%|██████████| 435/435 [00:20<00:00, 21.13it/s]\n"
          ]
        },
        {
          "output_type": "stream",
          "name": "stdout",
          "text": [
            "epoch train Loss: 0.729 Acc: 0.794\n"
          ]
        },
        {
          "output_type": "stream",
          "name": "stderr",
          "text": [
            "100%|██████████| 50/50 [00:01<00:00, 25.74it/s]\n"
          ]
        },
        {
          "output_type": "stream",
          "name": "stdout",
          "text": [
            "epoch val Loss: 0.7524 Acc: 0.7012\n",
            "2\n"
          ]
        },
        {
          "output_type": "stream",
          "name": "stderr",
          "text": [
            "100%|██████████| 435/435 [00:18<00:00, 23.46it/s]\n"
          ]
        },
        {
          "output_type": "stream",
          "name": "stdout",
          "text": [
            "epoch train Loss: 0.169 Acc: 0.953\n"
          ]
        },
        {
          "output_type": "stream",
          "name": "stderr",
          "text": [
            "100%|██████████| 50/50 [00:01<00:00, 26.31it/s]\n"
          ]
        },
        {
          "output_type": "stream",
          "name": "stdout",
          "text": [
            "epoch val Loss: 0.4123 Acc: 0.8580\n",
            "3\n"
          ]
        },
        {
          "output_type": "stream",
          "name": "stderr",
          "text": [
            "100%|██████████| 435/435 [00:18<00:00, 23.43it/s]\n"
          ]
        },
        {
          "output_type": "stream",
          "name": "stdout",
          "text": [
            "epoch train Loss: 0.105 Acc: 0.972\n"
          ]
        },
        {
          "output_type": "stream",
          "name": "stderr",
          "text": [
            "100%|██████████| 50/50 [00:01<00:00, 26.39it/s]\n"
          ]
        },
        {
          "output_type": "stream",
          "name": "stdout",
          "text": [
            "epoch val Loss: 0.2522 Acc: 0.9241\n",
            "4\n"
          ]
        },
        {
          "output_type": "stream",
          "name": "stderr",
          "text": [
            "100%|██████████| 435/435 [00:18<00:00, 23.55it/s]\n"
          ]
        },
        {
          "output_type": "stream",
          "name": "stdout",
          "text": [
            "epoch train Loss: 0.076 Acc: 0.979\n"
          ]
        },
        {
          "output_type": "stream",
          "name": "stderr",
          "text": [
            "100%|██████████| 50/50 [00:01<00:00, 26.15it/s]\n"
          ]
        },
        {
          "output_type": "stream",
          "name": "stdout",
          "text": [
            "epoch val Loss: 0.1948 Acc: 0.9395\n",
            "5\n"
          ]
        },
        {
          "output_type": "stream",
          "name": "stderr",
          "text": [
            "100%|██████████| 435/435 [00:18<00:00, 23.39it/s]\n"
          ]
        },
        {
          "output_type": "stream",
          "name": "stdout",
          "text": [
            "epoch train Loss: 0.060 Acc: 0.983\n"
          ]
        },
        {
          "output_type": "stream",
          "name": "stderr",
          "text": [
            "100%|██████████| 50/50 [00:01<00:00, 26.50it/s]\n"
          ]
        },
        {
          "output_type": "stream",
          "name": "stdout",
          "text": [
            "epoch val Loss: 0.1684 Acc: 0.9499\n",
            "6\n"
          ]
        },
        {
          "output_type": "stream",
          "name": "stderr",
          "text": [
            "100%|██████████| 435/435 [00:18<00:00, 23.34it/s]\n"
          ]
        },
        {
          "output_type": "stream",
          "name": "stdout",
          "text": [
            "epoch train Loss: 0.051 Acc: 0.986\n"
          ]
        },
        {
          "output_type": "stream",
          "name": "stderr",
          "text": [
            "100%|██████████| 50/50 [00:01<00:00, 26.64it/s]\n"
          ]
        },
        {
          "output_type": "stream",
          "name": "stdout",
          "text": [
            "epoch val Loss: 0.1121 Acc: 0.9690\n",
            "7\n"
          ]
        },
        {
          "output_type": "stream",
          "name": "stderr",
          "text": [
            "100%|██████████| 435/435 [00:18<00:00, 23.52it/s]\n"
          ]
        },
        {
          "output_type": "stream",
          "name": "stdout",
          "text": [
            "epoch train Loss: 0.044 Acc: 0.988\n"
          ]
        },
        {
          "output_type": "stream",
          "name": "stderr",
          "text": [
            "100%|██████████| 50/50 [00:01<00:00, 26.60it/s]\n"
          ]
        },
        {
          "output_type": "stream",
          "name": "stdout",
          "text": [
            "epoch val Loss: 0.1250 Acc: 0.9625\n",
            "8\n"
          ]
        },
        {
          "output_type": "stream",
          "name": "stderr",
          "text": [
            "100%|██████████| 435/435 [00:18<00:00, 23.74it/s]\n"
          ]
        },
        {
          "output_type": "stream",
          "name": "stdout",
          "text": [
            "epoch train Loss: 0.037 Acc: 0.989\n"
          ]
        },
        {
          "output_type": "stream",
          "name": "stderr",
          "text": [
            "100%|██████████| 50/50 [00:01<00:00, 27.93it/s]\n"
          ]
        },
        {
          "output_type": "stream",
          "name": "stdout",
          "text": [
            "epoch val Loss: 0.1292 Acc: 0.9617\n",
            "9\n"
          ]
        },
        {
          "output_type": "stream",
          "name": "stderr",
          "text": [
            "100%|██████████| 435/435 [00:18<00:00, 23.23it/s]\n"
          ]
        },
        {
          "output_type": "stream",
          "name": "stdout",
          "text": [
            "epoch train Loss: 0.033 Acc: 0.991\n"
          ]
        },
        {
          "output_type": "stream",
          "name": "stderr",
          "text": [
            "100%|██████████| 50/50 [00:01<00:00, 26.24it/s]\n"
          ]
        },
        {
          "output_type": "stream",
          "name": "stdout",
          "text": [
            "epoch val Loss: 0.1425 Acc: 0.9554\n",
            "10\n"
          ]
        },
        {
          "output_type": "stream",
          "name": "stderr",
          "text": [
            "100%|██████████| 435/435 [00:18<00:00, 23.22it/s]\n"
          ]
        },
        {
          "output_type": "stream",
          "name": "stdout",
          "text": [
            "epoch train Loss: 0.029 Acc: 0.992\n"
          ]
        },
        {
          "output_type": "stream",
          "name": "stderr",
          "text": [
            "100%|██████████| 50/50 [00:01<00:00, 25.70it/s]"
          ]
        },
        {
          "output_type": "stream",
          "name": "stdout",
          "text": [
            "epoch val Loss: 0.0971 Acc: 0.9692\n"
          ]
        },
        {
          "output_type": "stream",
          "name": "stderr",
          "text": [
            "\n"
          ]
        }
      ],
      "source": [
        "class Net(nn.Module):\n",
        "    def __init__(self):\n",
        "        super(Net, self).__init__()\n",
        "\n",
        "        def conv_bn(inp, oup, stride):\n",
        "            return nn.Sequential(\n",
        "                nn.Conv2d(inp, oup, 3, stride, 1, bias=False),\n",
        "                nn.BatchNorm2d(oup),\n",
        "                nn.ReLU(inplace=True)\n",
        "            )\n",
        "\n",
        "        def conv_dw(inp, oup, stride):\n",
        "            return nn.Sequential(\n",
        "                nn.Conv2d(inp, inp, 3, stride, 1, groups=inp, bias=False),\n",
        "                nn.BatchNorm2d(inp),\n",
        "                nn.ReLU(inplace=True),\n",
        "    \n",
        "                nn.Conv2d(inp, oup, 1, 1, 0, bias=False),\n",
        "                nn.BatchNorm2d(oup),\n",
        "                nn.ReLU(inplace=True),\n",
        "            )\n",
        "\n",
        "        self.model = nn.Sequential(\n",
        "            nn.Conv2d(1, 3, 3),\n",
        "            conv_bn(3,  32, 2), \n",
        "            conv_dw(32,  64, 1),\n",
        "            conv_dw(64, 128, 2),\n",
        "            conv_dw(128, 128, 1),\n",
        "            nn.AvgPool2d(7),\n",
        "        )\n",
        "        self.fc = nn.Linear(128 , 10)\n",
        "\n",
        "    def forward(self, x):\n",
        "        x = self.model(x.float())\n",
        "        x = x.view(x.size(0), -1)\n",
        "        x = self.fc(x)\n",
        "        return x\n",
        "model = Net()  \n",
        "device = torch.device(\"cuda:0\" if torch.cuda.is_available() else \"cpu\")\n",
        "model = model.to(device)\n",
        "print(model)     \n",
        "loss_function = nn.CrossEntropyLoss()\n",
        "optimizer = optim.SGD(model.parameters(), lr = 0.01,momentum =0.9)\n",
        "epochs = 10\n",
        "model = model\n",
        "train_set = train_loader_1\n",
        "val_set = val_loader\n",
        "model, train_loss_list, train_acc_list, val_loss_list, val_acc_list, best_model = train_model(epochs,train_set,val_set,model,optimizer,loss_function)   "
      ]
    },
    {
      "cell_type": "code",
      "source": [
        "model.parameters()"
      ],
      "metadata": {
        "colab": {
          "base_uri": "https://localhost:8080/"
        },
        "id": "gf1cl-JvVHK1",
        "outputId": "7bccf054-420c-4ac3-ba55-4c969113fe9d"
      },
      "execution_count": null,
      "outputs": [
        {
          "output_type": "execute_result",
          "data": {
            "text/plain": [
              "<generator object Module.parameters at 0x7f7eb50c1e50>"
            ]
          },
          "metadata": {},
          "execution_count": 116
        }
      ]
    },
    {
      "cell_type": "code",
      "source": [
        "## Training and Validation Loss "
      ],
      "metadata": {
        "id": "GXR8-pfZVbnE"
      },
      "execution_count": null,
      "outputs": []
    },
    {
      "cell_type": "code",
      "source": [
        "## Training and Validation Loss \n",
        "train_val_loss_graph(epochs,train_loss_list,val_loss_list)"
      ],
      "metadata": {
        "id": "_wiMDjlSIgVm",
        "colab": {
          "base_uri": "https://localhost:8080/",
          "height": 190
        },
        "outputId": "05fa973f-7951-48a7-86b3-c415d7d50cfb"
      },
      "execution_count": null,
      "outputs": [
        {
          "output_type": "error",
          "ename": "NameError",
          "evalue": "ignored",
          "traceback": [
            "\u001b[0;31m---------------------------------------------------------------------------\u001b[0m",
            "\u001b[0;31mNameError\u001b[0m                                 Traceback (most recent call last)",
            "\u001b[0;32m<ipython-input-13-c39865b4abe0>\u001b[0m in \u001b[0;36m<module>\u001b[0;34m()\u001b[0m\n\u001b[1;32m      1\u001b[0m \u001b[0;31m## Training and Validation Loss\u001b[0m\u001b[0;34m\u001b[0m\u001b[0;34m\u001b[0m\u001b[0;34m\u001b[0m\u001b[0m\n\u001b[0;32m----> 2\u001b[0;31m \u001b[0mtrain_val_loss_graph\u001b[0m\u001b[0;34m(\u001b[0m\u001b[0mepochs\u001b[0m\u001b[0;34m,\u001b[0m\u001b[0mtrain_loss_list\u001b[0m\u001b[0;34m,\u001b[0m\u001b[0mval_loss_list\u001b[0m\u001b[0;34m)\u001b[0m\u001b[0;34m\u001b[0m\u001b[0;34m\u001b[0m\u001b[0m\n\u001b[0m",
            "\u001b[0;31mNameError\u001b[0m: name 'train_val_loss_graph' is not defined"
          ]
        }
      ]
    },
    {
      "cell_type": "code",
      "source": [
        "y_pred, y_true, loss, accuracy = test(model, test_loader, loss_function)\n",
        "print(\"Test Loss >>\",loss,\"\\nTest Accuracy >>> \", accuracy)"
      ],
      "metadata": {
        "colab": {
          "base_uri": "https://localhost:8080/"
        },
        "id": "Sa_Dh6FSb3Va",
        "outputId": "d850dace-009f-49bd-b0b9-575a75711572"
      },
      "execution_count": null,
      "outputs": [
        {
          "output_type": "stream",
          "name": "stdout",
          "text": [
            "Test Loss >> 0.10711465563365774 \n",
            "Test Accuracy >>>  tensor(0.9684, device='cuda:0', dtype=torch.float64)\n"
          ]
        }
      ]
    },
    {
      "cell_type": "code",
      "source": [
        "predictions  = list_of_tensor_to_array(y_pred)\n",
        "real_labels =   list_of_tensor_to_array(y_true)"
      ],
      "metadata": {
        "id": "Fs5WmNwo_hJE"
      },
      "execution_count": null,
      "outputs": []
    },
    {
      "cell_type": "code",
      "source": [
        "plot_confusion_matrix(real_labels, predictions)"
      ],
      "metadata": {
        "colab": {
          "base_uri": "https://localhost:8080/",
          "height": 265
        },
        "id": "gYSQ52IY5LWb",
        "outputId": "38fd61af-16a2-4d8a-f114-838f3338dd44"
      },
      "execution_count": null,
      "outputs": [
        {
          "output_type": "display_data",
          "data": {
            "text/plain": [
              "<Figure size 432x288 with 2 Axes>"
            ],
            "image/png": "[encoded data removed]"
          },
          "metadata": {
            "needs_background": "light"
          }
        }
      ]
    },
    {
      "cell_type": "code",
      "execution_count": null,
      "metadata": {
        "colab": {
          "base_uri": "https://localhost:8080/"
        },
        "id": "OfqlD3fiaMDT",
        "outputId": "07877c43-53ec-4cce-feff-22dc9fa54709"
      },
      "outputs": [
        {
          "output_type": "stream",
          "name": "stdout",
          "text": [
            "Net(\n",
            "  (model): Sequential(\n",
            "    (0): Conv2d(1, 28, kernel_size=(5, 5), stride=(1, 1))\n",
            "    (1): Conv2d(28, 32, kernel_size=(3, 3), stride=(1, 1))\n",
            "    (2): Conv2d(32, 64, kernel_size=(3, 3), stride=(1, 1))\n",
            "    (3): Conv2d(64, 128, kernel_size=(3, 3), stride=(1, 1))\n",
            "  )\n",
            "  (gap): MaxPool1d(kernel_size=10, stride=10, padding=0, dilation=1, ceil_mode=False)\n",
            "  (fc): Linear(in_features=4147, out_features=10, bias=True)\n",
            ")\n",
            "device cuda:0\n",
            "1\n"
          ]
        },
        {
          "output_type": "stream",
          "name": "stderr",
          "text": [
            "  0%|          | 0/435 [00:00<?, ?it/s]/usr/local/lib/python3.7/dist-packages/ipykernel_launcher.py:19: UserWarning: To copy construct from a tensor, it is recommended to use sourceTensor.clone().detach() or sourceTensor.clone().detach().requires_grad_(True), rather than torch.tensor(sourceTensor).\n",
            "100%|██████████| 435/435 [00:20<00:00, 21.31it/s]\n"
          ]
        },
        {
          "output_type": "stream",
          "name": "stdout",
          "text": [
            "epoch train Loss: 0.761 Acc: 0.793\n"
          ]
        },
        {
          "output_type": "stream",
          "name": "stderr",
          "text": [
            "100%|██████████| 50/50 [00:01<00:00, 27.04it/s]\n"
          ]
        },
        {
          "output_type": "stream",
          "name": "stdout",
          "text": [
            "epoch val Loss: 0.3779 Acc: 0.8736\n",
            "2\n"
          ]
        },
        {
          "output_type": "stream",
          "name": "stderr",
          "text": [
            "100%|██████████| 435/435 [00:20<00:00, 21.41it/s]\n"
          ]
        },
        {
          "output_type": "stream",
          "name": "stdout",
          "text": [
            "epoch train Loss: 0.165 Acc: 0.950\n"
          ]
        },
        {
          "output_type": "stream",
          "name": "stderr",
          "text": [
            "100%|██████████| 50/50 [00:01<00:00, 27.18it/s]\n"
          ]
        },
        {
          "output_type": "stream",
          "name": "stdout",
          "text": [
            "epoch val Loss: 0.2929 Acc: 0.9065\n",
            "3\n"
          ]
        },
        {
          "output_type": "stream",
          "name": "stderr",
          "text": [
            "100%|██████████| 435/435 [00:20<00:00, 21.53it/s]\n"
          ]
        },
        {
          "output_type": "stream",
          "name": "stdout",
          "text": [
            "epoch train Loss: 0.119 Acc: 0.963\n"
          ]
        },
        {
          "output_type": "stream",
          "name": "stderr",
          "text": [
            "100%|██████████| 50/50 [00:01<00:00, 27.53it/s]\n"
          ]
        },
        {
          "output_type": "stream",
          "name": "stdout",
          "text": [
            "epoch val Loss: 0.1268 Acc: 0.9604\n",
            "4\n"
          ]
        },
        {
          "output_type": "stream",
          "name": "stderr",
          "text": [
            "100%|██████████| 435/435 [00:20<00:00, 21.36it/s]\n"
          ]
        },
        {
          "output_type": "stream",
          "name": "stdout",
          "text": [
            "epoch train Loss: 0.094 Acc: 0.971\n"
          ]
        },
        {
          "output_type": "stream",
          "name": "stderr",
          "text": [
            "100%|██████████| 50/50 [00:01<00:00, 26.78it/s]\n"
          ]
        },
        {
          "output_type": "stream",
          "name": "stdout",
          "text": [
            "epoch val Loss: 0.1326 Acc: 0.9596\n",
            "5\n"
          ]
        },
        {
          "output_type": "stream",
          "name": "stderr",
          "text": [
            "100%|██████████| 435/435 [00:20<00:00, 20.85it/s]\n"
          ]
        },
        {
          "output_type": "stream",
          "name": "stdout",
          "text": [
            "epoch train Loss: 0.081 Acc: 0.975\n"
          ]
        },
        {
          "output_type": "stream",
          "name": "stderr",
          "text": [
            "100%|██████████| 50/50 [00:01<00:00, 26.84it/s]\n"
          ]
        },
        {
          "output_type": "stream",
          "name": "stdout",
          "text": [
            "epoch val Loss: 0.1432 Acc: 0.9544\n",
            "6\n"
          ]
        },
        {
          "output_type": "stream",
          "name": "stderr",
          "text": [
            "100%|██████████| 435/435 [00:20<00:00, 21.54it/s]\n"
          ]
        },
        {
          "output_type": "stream",
          "name": "stdout",
          "text": [
            "epoch train Loss: 0.072 Acc: 0.978\n"
          ]
        },
        {
          "output_type": "stream",
          "name": "stderr",
          "text": [
            "100%|██████████| 50/50 [00:01<00:00, 26.71it/s]\n"
          ]
        },
        {
          "output_type": "stream",
          "name": "stdout",
          "text": [
            "epoch val Loss: 0.1362 Acc: 0.9533\n",
            "7\n"
          ]
        },
        {
          "output_type": "stream",
          "name": "stderr",
          "text": [
            "100%|██████████| 435/435 [00:20<00:00, 21.28it/s]\n"
          ]
        },
        {
          "output_type": "stream",
          "name": "stdout",
          "text": [
            "epoch train Loss: 0.064 Acc: 0.980\n"
          ]
        },
        {
          "output_type": "stream",
          "name": "stderr",
          "text": [
            "100%|██████████| 50/50 [00:01<00:00, 27.27it/s]\n"
          ]
        },
        {
          "output_type": "stream",
          "name": "stdout",
          "text": [
            "epoch val Loss: 0.1372 Acc: 0.9535\n",
            "8\n"
          ]
        },
        {
          "output_type": "stream",
          "name": "stderr",
          "text": [
            "100%|██████████| 435/435 [00:20<00:00, 21.55it/s]\n"
          ]
        },
        {
          "output_type": "stream",
          "name": "stdout",
          "text": [
            "epoch train Loss: 0.060 Acc: 0.981\n"
          ]
        },
        {
          "output_type": "stream",
          "name": "stderr",
          "text": [
            "100%|██████████| 50/50 [00:01<00:00, 26.58it/s]\n"
          ]
        },
        {
          "output_type": "stream",
          "name": "stdout",
          "text": [
            "epoch val Loss: 0.0938 Acc: 0.9677\n",
            "9\n"
          ]
        },
        {
          "output_type": "stream",
          "name": "stderr",
          "text": [
            "100%|██████████| 435/435 [00:20<00:00, 21.38it/s]\n"
          ]
        },
        {
          "output_type": "stream",
          "name": "stdout",
          "text": [
            "epoch train Loss: 0.054 Acc: 0.983\n"
          ]
        },
        {
          "output_type": "stream",
          "name": "stderr",
          "text": [
            "100%|██████████| 50/50 [00:01<00:00, 26.94it/s]\n"
          ]
        },
        {
          "output_type": "stream",
          "name": "stdout",
          "text": [
            "epoch val Loss: 0.0867 Acc: 0.9710\n",
            "10\n"
          ]
        },
        {
          "output_type": "stream",
          "name": "stderr",
          "text": [
            "100%|██████████| 435/435 [00:20<00:00, 21.50it/s]\n"
          ]
        },
        {
          "output_type": "stream",
          "name": "stdout",
          "text": [
            "epoch train Loss: 0.053 Acc: 0.983\n"
          ]
        },
        {
          "output_type": "stream",
          "name": "stderr",
          "text": [
            "100%|██████████| 50/50 [00:01<00:00, 27.04it/s]"
          ]
        },
        {
          "output_type": "stream",
          "name": "stdout",
          "text": [
            "epoch val Loss: 0.0809 Acc: 0.9728\n"
          ]
        },
        {
          "output_type": "stream",
          "name": "stderr",
          "text": [
            "\n"
          ]
        }
      ],
      "source": [
        "#https://pytorch.org/docs/stable/generated/torch.nn.functional.avg_pool1d.html\n",
        "class Net(nn.Module):\n",
        "    def __init__(self):\n",
        "        super(Net, self).__init__()\n",
        "\n",
        "        self.model = nn.Sequential(   # (1,28,28)\n",
        "            nn.Conv2d(1, 28, 5),\n",
        "            nn.Conv2d(28, 32, 3),\n",
        "            nn.Conv2d(32, 64, 3),\n",
        "            nn.Conv2d(64, 128, 3),\n",
        "            \n",
        "        )\n",
        "        self.gap = nn.MaxPool1d(kernel_size=10)#https://discuss.pytorch.org/t/global-average-pooling-in-pytorch/6721/3\n",
        "        self.fc = nn.Linear(4147, 10)\n",
        "\n",
        "    def forward(self, x):\n",
        "        x = self.model(x.float())\n",
        "        x = x.view(x.size(0), -1)\n",
        "        x = self.gap(x)\n",
        "        x = self.fc(x)\n",
        "        return x\n",
        "model = Net()    \n",
        "device = torch.device(\"cuda:0\" if torch.cuda.is_available() else \"cpu\")\n",
        "model = model.to(device)\n",
        "print(model)        \n",
        "loss_function = nn.CrossEntropyLoss()\n",
        "optimizer = optim.SGD(model.parameters(), lr = 0.001, momentum = 0.9)\n",
        "epochs = 10\n",
        "model = model\n",
        "train_set = train_loader_1\n",
        "val_set = val_loader\n",
        "model, train_loss_list, train_acc_list, val_loss_list, val_acc_list, best_model = train_model(epochs,train_set,val_set,model,optimizer,loss_function)"
      ]
    },
    {
      "cell_type": "code",
      "source": [
        "## Training and Validation Loss \n",
        "train_val_loss_graph(epochs,train_loss_list,val_loss_list)"
      ],
      "metadata": {
        "colab": {
          "base_uri": "https://localhost:8080/",
          "height": 295
        },
        "id": "yEr93T2ha_3y",
        "outputId": "22991b27-c4a5-4514-85bd-43056632dd22"
      },
      "execution_count": null,
      "outputs": [
        {
          "output_type": "display_data",
          "data": {
            "text/plain": [
              "<Figure size 432x288 with 1 Axes>"
            ],
            "image/png": "[encoded data removed]"
          },
          "metadata": {
            "needs_background": "light"
          }
        }
      ]
    },
    {
      "cell_type": "code",
      "execution_count": null,
      "metadata": {
        "colab": {
          "base_uri": "https://localhost:8080/"
        },
        "id": "vb7NKaO-xEkd",
        "outputId": "eb498da9-f5c8-4a9b-d954-832278d3de58"
      },
      "outputs": [
        {
          "output_type": "stream",
          "name": "stdout",
          "text": [
            "Test Loss >> 0.09450269008051289 \n",
            "Test Accuracy >>>  tensor(0.9708, device='cuda:0', dtype=torch.float64)\n"
          ]
        }
      ],
      "source": [
        "y_pred, y_true, loss, accuracy = test(model,test_loader,loss_function)\n",
        "print(\"Test Loss >>\",loss,\"\\nTest Accuracy >>> \", accuracy)"
      ]
    },
    {
      "cell_type": "code",
      "source": [
        "predictions  = list_of_tensor_to_array(y_pred)\n",
        "real_labels =   list_of_tensor_to_array(y_true)"
      ],
      "metadata": {
        "id": "VAZnD2JDBbLs"
      },
      "execution_count": null,
      "outputs": []
    },
    {
      "cell_type": "code",
      "source": [
        "plot_confusion_matrix(real_labels,predictions)"
      ],
      "metadata": {
        "colab": {
          "base_uri": "https://localhost:8080/",
          "height": 265
        },
        "id": "f5OamYpExdJM",
        "outputId": "358aa1a6-1236-46fe-99f7-a5888b7d51d1"
      },
      "execution_count": null,
      "outputs": [
        {
          "output_type": "display_data",
          "data": {
            "text/plain": [
              "<Figure size 432x288 with 2 Axes>"
            ],
            "image/png": "[encoded data removed]"
          },
          "metadata": {
            "needs_background": "light"
          }
        }
      ]
    },
    {
      "cell_type": "code",
      "source": [
        "model.con.weight.data"
      ],
      "metadata": {
        "colab": {
          "base_uri": "https://localhost:8080/",
          "height": 301
        },
        "id": "sbeGr80cKN10",
        "outputId": "453a9e40-db68-4223-bc18-f2e60d38dd68"
      },
      "execution_count": null,
      "outputs": [
        {
          "output_type": "error",
          "ename": "AttributeError",
          "evalue": "ignored",
          "traceback": [
            "\u001b[0;31m---------------------------------------------------------------------------\u001b[0m",
            "\u001b[0;31mAttributeError\u001b[0m                            Traceback (most recent call last)",
            "\u001b[0;32m<ipython-input-95-bed4644d2b30>\u001b[0m in \u001b[0;36m<module>\u001b[0;34m()\u001b[0m\n\u001b[0;32m----> 1\u001b[0;31m \u001b[0mmodel\u001b[0m\u001b[0;34m.\u001b[0m\u001b[0mmodel\u001b[0m\u001b[0;34m.\u001b[0m\u001b[0mweight\u001b[0m\u001b[0;34m.\u001b[0m\u001b[0mdata\u001b[0m\u001b[0;34m\u001b[0m\u001b[0;34m\u001b[0m\u001b[0m\n\u001b[0m",
            "\u001b[0;32m/usr/local/lib/python3.7/dist-packages/torch/nn/modules/module.py\u001b[0m in \u001b[0;36m__getattr__\u001b[0;34m(self, name)\u001b[0m\n\u001b[1;32m   1184\u001b[0m                 \u001b[0;32mreturn\u001b[0m \u001b[0mmodules\u001b[0m\u001b[0;34m[\u001b[0m\u001b[0mname\u001b[0m\u001b[0;34m]\u001b[0m\u001b[0;34m\u001b[0m\u001b[0;34m\u001b[0m\u001b[0m\n\u001b[1;32m   1185\u001b[0m         raise AttributeError(\"'{}' object has no attribute '{}'\".format(\n\u001b[0;32m-> 1186\u001b[0;31m             type(self).__name__, name))\n\u001b[0m\u001b[1;32m   1187\u001b[0m \u001b[0;34m\u001b[0m\u001b[0m\n\u001b[1;32m   1188\u001b[0m     \u001b[0;32mdef\u001b[0m \u001b[0m__setattr__\u001b[0m\u001b[0;34m(\u001b[0m\u001b[0mself\u001b[0m\u001b[0;34m,\u001b[0m \u001b[0mname\u001b[0m\u001b[0;34m:\u001b[0m \u001b[0mstr\u001b[0m\u001b[0;34m,\u001b[0m \u001b[0mvalue\u001b[0m\u001b[0;34m:\u001b[0m \u001b[0mUnion\u001b[0m\u001b[0;34m[\u001b[0m\u001b[0mTensor\u001b[0m\u001b[0;34m,\u001b[0m \u001b[0;34m'Module'\u001b[0m\u001b[0;34m]\u001b[0m\u001b[0;34m)\u001b[0m \u001b[0;34m->\u001b[0m \u001b[0;32mNone\u001b[0m\u001b[0;34m:\u001b[0m\u001b[0;34m\u001b[0m\u001b[0;34m\u001b[0m\u001b[0m\n",
            "\u001b[0;31mAttributeError\u001b[0m: 'Sequential' object has no attribute 'weight'"
          ]
        }
      ]
    },
    {
      "cell_type": "code",
      "source": [
        ""
      ],
      "metadata": {
        "id": "S2F0uZtS5GE9"
      },
      "execution_count": null,
      "outputs": []
    },
    {
      "cell_type": "code",
      "source": [
        "from sklearn.metrics import confusion_matrix\n",
        "import seaborn as sn\n",
        "df_cm = confusion_matrix(y_true[0].cpu().detach(), y_pred.cpu().detach(), labels=list(range(10)))\n",
        "sn.heatmap(df_cm, annot=True)"
      ],
      "metadata": {
        "colab": {
          "base_uri": "https://localhost:8080/",
          "height": 227
        },
        "id": "ZNewAb-sl6k6",
        "outputId": "8ba8ecde-74e8-47b3-b71e-df62ba4c3abc"
      },
      "execution_count": null,
      "outputs": [
        {
          "output_type": "error",
          "ename": "AttributeError",
          "evalue": "ignored",
          "traceback": [
            "\u001b[0;31m---------------------------------------------------------------------------\u001b[0m",
            "\u001b[0;31mAttributeError\u001b[0m                            Traceback (most recent call last)",
            "\u001b[0;32m<ipython-input-26-12c0c56e312f>\u001b[0m in \u001b[0;36m<module>\u001b[0;34m()\u001b[0m\n\u001b[1;32m      1\u001b[0m \u001b[0;32mfrom\u001b[0m \u001b[0msklearn\u001b[0m\u001b[0;34m.\u001b[0m\u001b[0mmetrics\u001b[0m \u001b[0;32mimport\u001b[0m \u001b[0mconfusion_matrix\u001b[0m\u001b[0;34m\u001b[0m\u001b[0;34m\u001b[0m\u001b[0m\n\u001b[1;32m      2\u001b[0m \u001b[0;32mimport\u001b[0m \u001b[0mseaborn\u001b[0m \u001b[0;32mas\u001b[0m \u001b[0msn\u001b[0m\u001b[0;34m\u001b[0m\u001b[0;34m\u001b[0m\u001b[0m\n\u001b[0;32m----> 3\u001b[0;31m \u001b[0mdf_cm\u001b[0m \u001b[0;34m=\u001b[0m \u001b[0mconfusion_matrix\u001b[0m\u001b[0;34m(\u001b[0m\u001b[0my_true\u001b[0m\u001b[0;34m.\u001b[0m\u001b[0mcpu\u001b[0m\u001b[0;34m(\u001b[0m\u001b[0;34m)\u001b[0m\u001b[0;34m.\u001b[0m\u001b[0mdetach\u001b[0m\u001b[0;34m(\u001b[0m\u001b[0;34m)\u001b[0m\u001b[0;34m,\u001b[0m \u001b[0my_pred\u001b[0m\u001b[0;34m.\u001b[0m\u001b[0mcpu\u001b[0m\u001b[0;34m(\u001b[0m\u001b[0;34m)\u001b[0m\u001b[0;34m.\u001b[0m\u001b[0mdetach\u001b[0m\u001b[0;34m(\u001b[0m\u001b[0;34m)\u001b[0m\u001b[0;34m,\u001b[0m \u001b[0mlabels\u001b[0m\u001b[0;34m=\u001b[0m\u001b[0mlist\u001b[0m\u001b[0;34m(\u001b[0m\u001b[0mrange\u001b[0m\u001b[0;34m(\u001b[0m\u001b[0;36m10\u001b[0m\u001b[0;34m)\u001b[0m\u001b[0;34m)\u001b[0m\u001b[0;34m)\u001b[0m\u001b[0;34m\u001b[0m\u001b[0;34m\u001b[0m\u001b[0m\n\u001b[0m\u001b[1;32m      4\u001b[0m \u001b[0msn\u001b[0m\u001b[0;34m.\u001b[0m\u001b[0mheatmap\u001b[0m\u001b[0;34m(\u001b[0m\u001b[0mdf_cm\u001b[0m\u001b[0;34m,\u001b[0m \u001b[0mannot\u001b[0m\u001b[0;34m=\u001b[0m\u001b[0;32mTrue\u001b[0m\u001b[0;34m)\u001b[0m\u001b[0;34m\u001b[0m\u001b[0;34m\u001b[0m\u001b[0m\n",
            "\u001b[0;31mAttributeError\u001b[0m: 'list' object has no attribute 'cpu'"
          ]
        }
      ]
    },
    {
      "cell_type": "code",
      "source": [
        "print(c.shape)\n",
        "print(a.shape)"
      ],
      "metadata": {
        "colab": {
          "base_uri": "https://localhost:8080/"
        },
        "id": "2WL2KcH-q-e5",
        "outputId": "d9fff4f7-34da-44d5-8c25-4313bb96ebaa"
      },
      "execution_count": null,
      "outputs": [
        {
          "output_type": "stream",
          "name": "stdout",
          "text": [
            "(5071,)\n",
            "(5071,)\n"
          ]
        }
      ]
    },
    {
      "cell_type": "code",
      "source": [
        "from sklearn.metrics import confusion_matrix\n",
        "y_pred = c\n",
        "confusion_matrix(y_true, y_pred, labels=list(range(10)))\n"
      ],
      "metadata": {
        "id": "KdCF0F87rYmo"
      },
      "execution_count": null,
      "outputs": []
    },
    {
      "cell_type": "code",
      "execution_count": null,
      "metadata": {
        "id": "wg65KZBuSvTS"
      },
      "outputs": [],
      "source": [
        "path  =\"/content/content/train_new\"\n",
        "l = os.listdir(path)"
      ]
    },
    {
      "cell_type": "code",
      "execution_count": null,
      "metadata": {
        "colab": {
          "base_uri": "https://localhost:8080/"
        },
        "id": "C19RO5sKWNWM",
        "outputId": "345b7b30-7a39-4875-9813-30e50413c742"
      },
      "outputs": [
        {
          "output_type": "execute_result",
          "data": {
            "text/plain": [
              "43470"
            ]
          },
          "metadata": {},
          "execution_count": 9
        }
      ],
      "source": [
        "len(l)"
      ]
    },
    {
      "cell_type": "code",
      "execution_count": null,
      "metadata": {
        "colab": {
          "base_uri": "https://localhost:8080/"
        },
        "id": "KkxUnhE_Wh8L",
        "outputId": "87be0c18-2eb6-44d4-f0f0-2a7e176548af"
      },
      "outputs": [
        {
          "output_type": "execute_result",
          "data": {
            "text/plain": [
              "['33333.png',\n",
              " '54096.png',\n",
              " '51041.png',\n",
              " '48084.png',\n",
              " '12984.png',\n",
              " '33270.png',\n",
              " '2060.png',\n",
              " '14454.png',\n",
              " '30585.png',\n",
              " '881.png',\n",
              " '19256.png',\n",
              " '4140.png',\n",
              " '2725.png',\n",
              " '40950.png',\n",
              " '15270.png',\n",
              " '45217.png',\n",
              " '8986.png',\n",
              " '58671.png',\n",
              " '9842.png',\n",
              " '35277.png',\n",
              " '10162.png',\n",
              " '3202.png',\n",
              " '12487.png',\n",
              " '29929.png',\n",
              " '57802.png',\n",
              " '56538.png',\n",
              " '48546.png',\n",
              " '23739.png',\n",
              " '4394.png',\n",
              " '32548.png',\n",
              " '32436.png',\n",
              " '20807.png',\n",
              " '4129.png',\n",
              " '31241.png',\n",
              " '9484.png',\n",
              " '55980.png',\n",
              " '33612.png',\n",
              " '15444.png',\n",
              " '56617.png',\n",
              " '24917.png',\n",
              " '3494.png',\n",
              " '15906.png',\n",
              " '37573.png',\n",
              " '26543.png',\n",
              " '56960.png',\n",
              " '19869.png',\n",
              " '12086.png',\n",
              " '16822.png',\n",
              " '47677.png',\n",
              " '15749.png',\n",
              " '26037.png',\n",
              " '8626.png',\n",
              " '45666.png',\n",
              " '4490.png',\n",
              " '51220.png',\n",
              " '49397.png',\n",
              " '26599.png',\n",
              " '18903.png',\n",
              " '43433.png',\n",
              " '25914.png',\n",
              " '40536.png',\n",
              " '49589.png',\n",
              " '51360.png',\n",
              " '53845.png',\n",
              " '58730.png',\n",
              " '39539.png',\n",
              " '34108.png',\n",
              " '8040.png',\n",
              " '36752.png',\n",
              " '13343.png',\n",
              " '56145.png',\n",
              " '17885.png',\n",
              " '37117.png',\n",
              " '10582.png',\n",
              " '47727.png',\n",
              " '50132.png',\n",
              " '10446.png',\n",
              " '46118.png',\n",
              " '19804.png',\n",
              " '51613.png',\n",
              " '1215.png',\n",
              " '10762.png',\n",
              " '48.png',\n",
              " '14377.png',\n",
              " '40695.png',\n",
              " '58346.png',\n",
              " '19855.png',\n",
              " '354.png',\n",
              " '49805.png',\n",
              " '45656.png',\n",
              " '46914.png',\n",
              " '50780.png',\n",
              " '17881.png',\n",
              " '3248.png',\n",
              " '22674.png',\n",
              " '20886.png',\n",
              " '56369.png',\n",
              " '51055.png',\n",
              " '34057.png',\n",
              " '3628.png',\n",
              " '122.png',\n",
              " '28516.png',\n",
              " '32359.png',\n",
              " '9016.png',\n",
              " '9220.png',\n",
              " '14808.png',\n",
              " '38385.png',\n",
              " '42766.png',\n",
              " '58621.png',\n",
              " '45373.png',\n",
              " '22424.png',\n",
              " '28956.png',\n",
              " '45270.png',\n",
              " '6712.png',\n",
              " '34766.png',\n",
              " '43445.png',\n",
              " '439.png',\n",
              " '54619.png',\n",
              " '6286.png',\n",
              " '1755.png',\n",
              " '52611.png',\n",
              " '34270.png',\n",
              " '6981.png',\n",
              " '28839.png',\n",
              " '43642.png',\n",
              " '4543.png',\n",
              " '3794.png',\n",
              " '28426.png',\n",
              " '35805.png',\n",
              " '5263.png',\n",
              " '4994.png',\n",
              " '54681.png',\n",
              " '4221.png',\n",
              " '13052.png',\n",
              " '41985.png',\n",
              " '49673.png',\n",
              " '4147.png',\n",
              " '19429.png',\n",
              " '18131.png',\n",
              " '48138.png',\n",
              " '56508.png',\n",
              " '23426.png',\n",
              " '14305.png',\n",
              " '22598.png',\n",
              " '34180.png',\n",
              " '25788.png',\n",
              " '28309.png',\n",
              " '48571.png',\n",
              " '48495.png',\n",
              " '33751.png',\n",
              " '26747.png',\n",
              " '2143.png',\n",
              " '17348.png',\n",
              " '53709.png',\n",
              " '50261.png',\n",
              " '54906.png',\n",
              " '28330.png',\n",
              " '4016.png',\n",
              " '42612.png',\n",
              " '28795.png',\n",
              " '27742.png',\n",
              " '24575.png',\n",
              " '35551.png',\n",
              " '17953.png',\n",
              " '10071.png',\n",
              " '50570.png',\n",
              " '69.png',\n",
              " '20989.png',\n",
              " '16490.png',\n",
              " '18381.png',\n",
              " '54251.png',\n",
              " '27318.png',\n",
              " '2452.png',\n",
              " '28554.png',\n",
              " '22662.png',\n",
              " '57961.png',\n",
              " '31963.png',\n",
              " '44329.png',\n",
              " '25099.png',\n",
              " '38198.png',\n",
              " '1788.png',\n",
              " '6634.png',\n",
              " '23866.png',\n",
              " '44876.png',\n",
              " '44823.png',\n",
              " '30973.png',\n",
              " '22931.png',\n",
              " '1904.png',\n",
              " '52121.png',\n",
              " '1902.png',\n",
              " '12630.png',\n",
              " '24450.png',\n",
              " '53366.png',\n",
              " '18574.png',\n",
              " '15814.png',\n",
              " '54034.png',\n",
              " '20979.png',\n",
              " '59479.png',\n",
              " '11318.png',\n",
              " '23199.png',\n",
              " '5671.png',\n",
              " '47022.png',\n",
              " '58049.png',\n",
              " '3923.png',\n",
              " '18796.png',\n",
              " '19392.png',\n",
              " '34377.png',\n",
              " '6140.png',\n",
              " '1487.png',\n",
              " '10847.png',\n",
              " '39886.png',\n",
              " '23732.png',\n",
              " '40941.png',\n",
              " '34919.png',\n",
              " '31076.png',\n",
              " '47652.png',\n",
              " '37238.png',\n",
              " '51618.png',\n",
              " '18688.png',\n",
              " '16903.png',\n",
              " '23266.png',\n",
              " '44193.png',\n",
              " '48822.png',\n",
              " '55435.png',\n",
              " '44682.png',\n",
              " '52299.png',\n",
              " '53774.png',\n",
              " '29777.png',\n",
              " '48612.png',\n",
              " '10904.png',\n",
              " '32330.png',\n",
              " '56042.png',\n",
              " '33607.png',\n",
              " '47686.png',\n",
              " '11623.png',\n",
              " '43243.png',\n",
              " '31573.png',\n",
              " '27028.png',\n",
              " '6870.png',\n",
              " '34360.png',\n",
              " '10685.png',\n",
              " '22831.png',\n",
              " '6644.png',\n",
              " '47970.png',\n",
              " '30048.png',\n",
              " '32793.png',\n",
              " '43501.png',\n",
              " '36885.png',\n",
              " '21947.png',\n",
              " '1710.png',\n",
              " '18908.png',\n",
              " '43305.png',\n",
              " '5018.png',\n",
              " '1183.png',\n",
              " '42316.png',\n",
              " '24497.png',\n",
              " '28004.png',\n",
              " '42222.png',\n",
              " '9872.png',\n",
              " '18773.png',\n",
              " '38235.png',\n",
              " '36569.png',\n",
              " '4133.png',\n",
              " '29753.png',\n",
              " '13071.png',\n",
              " '54383.png',\n",
              " '58589.png',\n",
              " '2762.png',\n",
              " '55865.png',\n",
              " '2195.png',\n",
              " '15030.png',\n",
              " '1697.png',\n",
              " '21706.png',\n",
              " '944.png',\n",
              " '270.png',\n",
              " '43386.png',\n",
              " '5549.png',\n",
              " '22699.png',\n",
              " '35748.png',\n",
              " '31591.png',\n",
              " '6011.png',\n",
              " '3822.png',\n",
              " '15711.png',\n",
              " '11904.png',\n",
              " '3654.png',\n",
              " '58020.png',\n",
              " '40139.png',\n",
              " '2692.png',\n",
              " '19311.png',\n",
              " '46178.png',\n",
              " '38737.png',\n",
              " '5615.png',\n",
              " '39375.png',\n",
              " '33290.png',\n",
              " '9962.png',\n",
              " '40508.png',\n",
              " '11897.png',\n",
              " '20961.png',\n",
              " '28076.png',\n",
              " '19092.png',\n",
              " '13255.png',\n",
              " '10481.png',\n",
              " '52954.png',\n",
              " '36859.png',\n",
              " '35882.png',\n",
              " '55960.png',\n",
              " '54258.png',\n",
              " '11177.png',\n",
              " '34991.png',\n",
              " '36913.png',\n",
              " '17751.png',\n",
              " '14849.png',\n",
              " '27976.png',\n",
              " '42513.png',\n",
              " '1356.png',\n",
              " '35617.png',\n",
              " '58990.png',\n",
              " '33019.png',\n",
              " '11588.png',\n",
              " '12183.png',\n",
              " '55100.png',\n",
              " '1241.png',\n",
              " '37871.png',\n",
              " '26325.png',\n",
              " '7266.png',\n",
              " '57510.png',\n",
              " '43593.png',\n",
              " '8542.png',\n",
              " '29890.png',\n",
              " '7251.png',\n",
              " '54885.png',\n",
              " '18815.png',\n",
              " '29233.png',\n",
              " '42493.png',\n",
              " '10962.png',\n",
              " '56563.png',\n",
              " '33496.png',\n",
              " '40386.png',\n",
              " '14.png',\n",
              " '35038.png',\n",
              " '45048.png',\n",
              " '15342.png',\n",
              " '51408.png',\n",
              " '34679.png',\n",
              " '36992.png',\n",
              " '20788.png',\n",
              " '51141.png',\n",
              " '3525.png',\n",
              " '17854.png',\n",
              " '35809.png',\n",
              " '59739.png',\n",
              " '3509.png',\n",
              " '25635.png',\n",
              " '33863.png',\n",
              " '3499.png',\n",
              " '2203.png',\n",
              " '33151.png',\n",
              " '33812.png',\n",
              " '38191.png',\n",
              " '38579.png',\n",
              " '12665.png',\n",
              " '11794.png',\n",
              " '251.png',\n",
              " '54585.png',\n",
              " '42473.png',\n",
              " '19933.png',\n",
              " '46556.png',\n",
              " '5160.png',\n",
              " '26377.png',\n",
              " '15913.png',\n",
              " '28210.png',\n",
              " '42714.png',\n",
              " '13753.png',\n",
              " '26102.png',\n",
              " '28703.png',\n",
              " '56897.png',\n",
              " '40128.png',\n",
              " '47946.png',\n",
              " '49787.png',\n",
              " '50167.png',\n",
              " '7869.png',\n",
              " '20673.png',\n",
              " '38380.png',\n",
              " '24711.png',\n",
              " '653.png',\n",
              " '2207.png',\n",
              " '31959.png',\n",
              " '17966.png',\n",
              " '55388.png',\n",
              " '38345.png',\n",
              " '17181.png',\n",
              " '55702.png',\n",
              " '33735.png',\n",
              " '23863.png',\n",
              " '9651.png',\n",
              " '25323.png',\n",
              " '57965.png',\n",
              " '52400.png',\n",
              " '39531.png',\n",
              " '13426.png',\n",
              " '18077.png',\n",
              " '28198.png',\n",
              " '11977.png',\n",
              " '4968.png',\n",
              " '36654.png',\n",
              " '31217.png',\n",
              " '1901.png',\n",
              " '59551.png',\n",
              " '25277.png',\n",
              " '5545.png',\n",
              " '48840.png',\n",
              " '14299.png',\n",
              " '38510.png',\n",
              " '39077.png',\n",
              " '13430.png',\n",
              " '27847.png',\n",
              " '13625.png',\n",
              " '17657.png',\n",
              " '52627.png',\n",
              " '8006.png',\n",
              " '53429.png',\n",
              " '46890.png',\n",
              " '9551.png',\n",
              " '40812.png',\n",
              " '15459.png',\n",
              " '23512.png',\n",
              " '26996.png',\n",
              " '11253.png',\n",
              " '39479.png',\n",
              " '29694.png',\n",
              " '12986.png',\n",
              " '41291.png',\n",
              " '662.png',\n",
              " '10708.png',\n",
              " '35780.png',\n",
              " '24359.png',\n",
              " '31725.png',\n",
              " '24491.png',\n",
              " '40850.png',\n",
              " '26292.png',\n",
              " '45283.png',\n",
              " '3428.png',\n",
              " '9079.png',\n",
              " '9945.png',\n",
              " '33010.png',\n",
              " '21296.png',\n",
              " '25465.png',\n",
              " '52240.png',\n",
              " '18164.png',\n",
              " '36064.png',\n",
              " '58204.png',\n",
              " '17364.png',\n",
              " '25372.png',\n",
              " '210.png',\n",
              " '42014.png',\n",
              " '56810.png',\n",
              " '37484.png',\n",
              " '59526.png',\n",
              " '9939.png',\n",
              " '50965.png',\n",
              " '32668.png',\n",
              " '36574.png',\n",
              " '57774.png',\n",
              " '29982.png',\n",
              " '41739.png',\n",
              " '52566.png',\n",
              " '844.png',\n",
              " '52038.png',\n",
              " '37046.png',\n",
              " '16091.png',\n",
              " '1187.png',\n",
              " '2888.png',\n",
              " '12074.png',\n",
              " '23912.png',\n",
              " '25419.png',\n",
              " '39774.png',\n",
              " '14400.png',\n",
              " '44270.png',\n",
              " '23438.png',\n",
              " '37942.png',\n",
              " '49100.png',\n",
              " '53990.png',\n",
              " '18355.png',\n",
              " '55296.png',\n",
              " '54558.png',\n",
              " '43626.png',\n",
              " '21497.png',\n",
              " '8984.png',\n",
              " '58371.png',\n",
              " '34165.png',\n",
              " '30650.png',\n",
              " '2205.png',\n",
              " '1893.png',\n",
              " '15282.png',\n",
              " '20551.png',\n",
              " '17907.png',\n",
              " '55439.png',\n",
              " '34721.png',\n",
              " '6869.png',\n",
              " '59010.png',\n",
              " '3763.png',\n",
              " '50159.png',\n",
              " '26536.png',\n",
              " '25753.png',\n",
              " '17140.png',\n",
              " '10464.png',\n",
              " '17448.png',\n",
              " '20607.png',\n",
              " '1718.png',\n",
              " '33595.png',\n",
              " '4480.png',\n",
              " '2379.png',\n",
              " '34786.png',\n",
              " '37860.png',\n",
              " '38184.png',\n",
              " '51531.png',\n",
              " '27086.png',\n",
              " '5133.png',\n",
              " '16316.png',\n",
              " '14600.png',\n",
              " '33676.png',\n",
              " '37370.png',\n",
              " '4890.png',\n",
              " '51788.png',\n",
              " '26606.png',\n",
              " '58055.png',\n",
              " '54557.png',\n",
              " '12768.png',\n",
              " '26240.png',\n",
              " '42098.png',\n",
              " '37404.png',\n",
              " '39960.png',\n",
              " '59667.png',\n",
              " '51464.png',\n",
              " '40799.png',\n",
              " '2499.png',\n",
              " '15280.png',\n",
              " '25018.png',\n",
              " '49621.png',\n",
              " '37738.png',\n",
              " '27153.png',\n",
              " '35828.png',\n",
              " '21743.png',\n",
              " '47618.png',\n",
              " '10275.png',\n",
              " '39804.png',\n",
              " '33131.png',\n",
              " '15554.png',\n",
              " '58160.png',\n",
              " '53338.png',\n",
              " '37466.png',\n",
              " '2474.png',\n",
              " '36871.png',\n",
              " '6893.png',\n",
              " '44510.png',\n",
              " '3104.png',\n",
              " '140.png',\n",
              " '5703.png',\n",
              " '14806.png',\n",
              " '2929.png',\n",
              " '45141.png',\n",
              " '50497.png',\n",
              " '48873.png',\n",
              " '35593.png',\n",
              " '7119.png',\n",
              " '38757.png',\n",
              " '48838.png',\n",
              " '14554.png',\n",
              " '17372.png',\n",
              " '45643.png',\n",
              " '34398.png',\n",
              " '49681.png',\n",
              " '36529.png',\n",
              " '9601.png',\n",
              " '39749.png',\n",
              " '31453.png',\n",
              " '53905.png',\n",
              " '32190.png',\n",
              " '4056.png',\n",
              " '4756.png',\n",
              " '40159.png',\n",
              " '12892.png',\n",
              " '824.png',\n",
              " '35404.png',\n",
              " '50837.png',\n",
              " '37921.png',\n",
              " '55476.png',\n",
              " '38550.png',\n",
              " '30319.png',\n",
              " '7834.png',\n",
              " '50333.png',\n",
              " '1598.png',\n",
              " '21303.png',\n",
              " '54234.png',\n",
              " '42889.png',\n",
              " '24128.png',\n",
              " '15624.png',\n",
              " '29661.png',\n",
              " '3909.png',\n",
              " '11385.png',\n",
              " '21020.png',\n",
              " '11103.png',\n",
              " '30981.png',\n",
              " '1906.png',\n",
              " '39318.png',\n",
              " '47972.png',\n",
              " '58946.png',\n",
              " '3123.png',\n",
              " '36557.png',\n",
              " '15498.png',\n",
              " '3962.png',\n",
              " '28528.png',\n",
              " '39494.png',\n",
              " '55782.png',\n",
              " '5988.png',\n",
              " '3832.png',\n",
              " '972.png',\n",
              " '44803.png',\n",
              " '11207.png',\n",
              " '12730.png',\n",
              " '3204.png',\n",
              " '17401.png',\n",
              " '13724.png',\n",
              " '44172.png',\n",
              " '30369.png',\n",
              " '41997.png',\n",
              " '6062.png',\n",
              " '28216.png',\n",
              " '20368.png',\n",
              " '24780.png',\n",
              " '3032.png',\n",
              " '50351.png',\n",
              " '108.png',\n",
              " '20890.png',\n",
              " '21860.png',\n",
              " '8078.png',\n",
              " '41262.png',\n",
              " '49795.png',\n",
              " '980.png',\n",
              " '1819.png',\n",
              " '7118.png',\n",
              " '36853.png',\n",
              " '13503.png',\n",
              " '27588.png',\n",
              " '9331.png',\n",
              " '55516.png',\n",
              " '23115.png',\n",
              " '13161.png',\n",
              " '3960.png',\n",
              " '47847.png',\n",
              " '33284.png',\n",
              " '48290.png',\n",
              " '20940.png',\n",
              " '54048.png',\n",
              " '38589.png',\n",
              " '39554.png',\n",
              " '28631.png',\n",
              " '5067.png',\n",
              " '4244.png',\n",
              " '28683.png',\n",
              " '59937.png',\n",
              " '36510.png',\n",
              " '41495.png',\n",
              " '9315.png',\n",
              " '3871.png',\n",
              " '12546.png',\n",
              " '54622.png',\n",
              " '56633.png',\n",
              " '35715.png',\n",
              " '34801.png',\n",
              " '36586.png',\n",
              " '46310.png',\n",
              " '10037.png',\n",
              " '38658.png',\n",
              " '23279.png',\n",
              " '22335.png',\n",
              " '22936.png',\n",
              " '46097.png',\n",
              " '6307.png',\n",
              " '1767.png',\n",
              " '38885.png',\n",
              " '14516.png',\n",
              " '47805.png',\n",
              " '42096.png',\n",
              " '4198.png',\n",
              " '14792.png',\n",
              " '56334.png',\n",
              " '37892.png',\n",
              " '10805.png',\n",
              " '25424.png',\n",
              " '44436.png',\n",
              " '15098.png',\n",
              " '15739.png',\n",
              " '45165.png',\n",
              " '26187.png',\n",
              " '56285.png',\n",
              " '24689.png',\n",
              " '17517.png',\n",
              " '59172.png',\n",
              " '7304.png',\n",
              " '43122.png',\n",
              " '49792.png',\n",
              " '44307.png',\n",
              " '14061.png',\n",
              " '8481.png',\n",
              " '14444.png',\n",
              " '29205.png',\n",
              " '15540.png',\n",
              " '8583.png',\n",
              " '56194.png',\n",
              " '59003.png',\n",
              " '49646.png',\n",
              " '19507.png',\n",
              " '56579.png',\n",
              " '58344.png',\n",
              " '44178.png',\n",
              " '38682.png',\n",
              " '21118.png',\n",
              " '8555.png',\n",
              " '24489.png',\n",
              " '33577.png',\n",
              " '14107.png',\n",
              " '7840.png',\n",
              " '23051.png',\n",
              " '16884.png',\n",
              " '16204.png',\n",
              " '19963.png',\n",
              " '54948.png',\n",
              " '48163.png',\n",
              " '9038.png',\n",
              " '2237.png',\n",
              " '40800.png',\n",
              " '37561.png',\n",
              " '34780.png',\n",
              " '58616.png',\n",
              " '8586.png',\n",
              " '10583.png',\n",
              " '10808.png',\n",
              " '39839.png',\n",
              " '30441.png',\n",
              " '45323.png',\n",
              " '34606.png',\n",
              " '41477.png',\n",
              " '38120.png',\n",
              " '22820.png',\n",
              " '5380.png',\n",
              " '36463.png',\n",
              " '35608.png',\n",
              " '48643.png',\n",
              " '39044.png',\n",
              " '59068.png',\n",
              " '46680.png',\n",
              " '12080.png',\n",
              " '43910.png',\n",
              " '38108.png',\n",
              " '8393.png',\n",
              " '22577.png',\n",
              " '29072.png',\n",
              " '51545.png',\n",
              " '4455.png',\n",
              " '38465.png',\n",
              " '46599.png',\n",
              " '46765.png',\n",
              " '22484.png',\n",
              " '2481.png',\n",
              " '821.png',\n",
              " '58759.png',\n",
              " '51966.png',\n",
              " '37518.png',\n",
              " '13319.png',\n",
              " '28522.png',\n",
              " '19317.png',\n",
              " '26346.png',\n",
              " '41247.png',\n",
              " '11940.png',\n",
              " '56003.png',\n",
              " '28111.png',\n",
              " '47786.png',\n",
              " '29766.png',\n",
              " '20161.png',\n",
              " '4826.png',\n",
              " '1600.png',\n",
              " '3065.png',\n",
              " '22111.png',\n",
              " '38797.png',\n",
              " '38962.png',\n",
              " '53631.png',\n",
              " '25284.png',\n",
              " '13740.png',\n",
              " '10726.png',\n",
              " '1989.png',\n",
              " '21987.png',\n",
              " '15437.png',\n",
              " '11018.png',\n",
              " '44969.png',\n",
              " '29095.png',\n",
              " '43643.png',\n",
              " '15970.png',\n",
              " '54469.png',\n",
              " '20082.png',\n",
              " '52112.png',\n",
              " '36573.png',\n",
              " '22080.png',\n",
              " '27001.png',\n",
              " '27700.png',\n",
              " '9780.png',\n",
              " '37362.png',\n",
              " '53448.png',\n",
              " '35764.png',\n",
              " '2103.png',\n",
              " '11070.png',\n",
              " '9646.png',\n",
              " '7937.png',\n",
              " '10478.png',\n",
              " '42197.png',\n",
              " '1175.png',\n",
              " '23746.png',\n",
              " '20196.png',\n",
              " '10191.png',\n",
              " '35291.png',\n",
              " '23875.png',\n",
              " '4190.png',\n",
              " '20357.png',\n",
              " '10220.png',\n",
              " '53224.png',\n",
              " '18210.png',\n",
              " '43455.png',\n",
              " '29084.png',\n",
              " '16224.png',\n",
              " '29495.png',\n",
              " '16806.png',\n",
              " '45428.png',\n",
              " '14274.png',\n",
              " '13563.png',\n",
              " '31233.png',\n",
              " '11824.png',\n",
              " '38520.png',\n",
              " '49313.png',\n",
              " '49205.png',\n",
              " '35996.png',\n",
              " '7797.png',\n",
              " '53435.png',\n",
              " '24666.png',\n",
              " '8608.png',\n",
              " '15798.png',\n",
              " '43975.png',\n",
              " '40127.png',\n",
              " '41671.png',\n",
              " '32278.png',\n",
              " '37578.png',\n",
              " '44369.png',\n",
              " '44740.png',\n",
              " '47546.png',\n",
              " '39540.png',\n",
              " '26586.png',\n",
              " '21763.png',\n",
              " '46936.png',\n",
              " '49109.png',\n",
              " '18183.png',\n",
              " '16083.png',\n",
              " '3171.png',\n",
              " '37413.png',\n",
              " '40381.png',\n",
              " '51522.png',\n",
              " '43830.png',\n",
              " '12883.png',\n",
              " '50581.png',\n",
              " '37764.png',\n",
              " '43421.png',\n",
              " '41075.png',\n",
              " '10781.png',\n",
              " '44619.png',\n",
              " '11340.png',\n",
              " '53128.png',\n",
              " '17784.png',\n",
              " '26462.png',\n",
              " '44235.png',\n",
              " '53648.png',\n",
              " '49410.png',\n",
              " '53096.png',\n",
              " '51680.png',\n",
              " '2287.png',\n",
              " '30648.png',\n",
              " '30169.png',\n",
              " '47475.png',\n",
              " '54709.png',\n",
              " '33374.png',\n",
              " '49115.png',\n",
              " '52365.png',\n",
              " '30855.png',\n",
              " '46308.png',\n",
              " '39426.png',\n",
              " '2051.png',\n",
              " '58963.png',\n",
              " '12548.png',\n",
              " '59991.png',\n",
              " '44639.png',\n",
              " '55799.png',\n",
              " '32405.png',\n",
              " '36987.png',\n",
              " '16777.png',\n",
              " '51419.png',\n",
              " '37868.png',\n",
              " '38268.png',\n",
              " '59264.png',\n",
              " '2649.png',\n",
              " '36658.png',\n",
              " '34127.png',\n",
              " '33623.png',\n",
              " '40331.png',\n",
              " '37321.png',\n",
              " '1182.png',\n",
              " '43186.png',\n",
              " '59742.png',\n",
              " '35463.png',\n",
              " '51243.png',\n",
              " '1055.png',\n",
              " '15847.png',\n",
              " '22464.png',\n",
              " '54317.png',\n",
              " '18568.png',\n",
              " '49479.png',\n",
              " '2210.png',\n",
              " '1154.png',\n",
              " '8255.png',\n",
              " '50114.png',\n",
              " '14568.png',\n",
              " '44974.png',\n",
              " '50839.png',\n",
              " '31749.png',\n",
              " '46094.png',\n",
              " '22211.png',\n",
              " '47759.png',\n",
              " '15213.png',\n",
              " '3622.png',\n",
              " '48846.png',\n",
              " '46492.png',\n",
              " '35724.png',\n",
              " '41974.png',\n",
              " '15757.png',\n",
              " '40155.png',\n",
              " '43272.png',\n",
              " '52119.png',\n",
              " '48273.png',\n",
              " '12386.png',\n",
              " '52416.png',\n",
              " '4310.png',\n",
              " '16890.png',\n",
              " '53003.png',\n",
              " '43776.png',\n",
              " '17639.png',\n",
              " '7669.png',\n",
              " '18527.png',\n",
              " '7643.png',\n",
              " '5702.png',\n",
              " '22423.png',\n",
              " '51834.png',\n",
              " '41856.png',\n",
              " '6355.png',\n",
              " '10219.png',\n",
              " '40073.png',\n",
              " '24618.png',\n",
              " '24437.png',\n",
              " '47828.png',\n",
              " '25710.png',\n",
              " '48564.png',\n",
              " '40988.png',\n",
              " '50550.png',\n",
              " '2928.png',\n",
              " '38545.png',\n",
              " '53219.png',\n",
              " '47889.png',\n",
              " '47934.png',\n",
              " '15464.png',\n",
              " '11258.png',\n",
              " '49798.png',\n",
              " '28136.png',\n",
              " '53439.png',\n",
              " '18401.png',\n",
              " '34491.png',\n",
              " '6153.png',\n",
              " '32137.png',\n",
              " '241.png',\n",
              " '13342.png',\n",
              " '11584.png',\n",
              " '43422.png',\n",
              " '1562.png',\n",
              " '968.png',\n",
              " '1877.png',\n",
              " '24161.png',\n",
              " '12098.png',\n",
              " '13375.png',\n",
              " '29628.png',\n",
              " '1460.png',\n",
              " '8582.png',\n",
              " '19316.png',\n",
              " '53278.png',\n",
              " '51791.png',\n",
              " '33260.png',\n",
              " '4100.png',\n",
              " ...]"
            ]
          },
          "metadata": {},
          "execution_count": 10
        }
      ],
      "source": [
        "l"
      ]
    },
    {
      "cell_type": "code",
      "source": [
        ""
      ],
      "metadata": {
        "id": "3ZngdASN1xEb"
      },
      "execution_count": null,
      "outputs": []
    },
    {
      "cell_type": "code",
      "execution_count": null,
      "metadata": {
        "id": "rcvcelvIW0i4"
      },
      "outputs": [],
      "source": [
        "df = pd.read_csv(\"/content/drive/MyDrive/Assign2Dataset/Data/train/train.csv\")\n",
        "df = df[pd.DataFrame(df.FileName.tolist()).isin(l).any(1).values]\n",
        "df.to_csv(\"/content/drive/MyDrive/minset/updated_csv.csv\",index= False)"
      ]
    },
    {
      "cell_type": "code",
      "execution_count": null,
      "metadata": {
        "colab": {
          "base_uri": "https://localhost:8080/"
        },
        "id": "ahMgHXwyDE_i",
        "outputId": "1c5597e2-6597-4a82-f534-fcb5b364523a"
      },
      "outputs": [
        {
          "output_type": "execute_result",
          "data": {
            "text/plain": [
              "(40620, 2)"
            ]
          },
          "metadata": {},
          "execution_count": 26
        }
      ],
      "source": [
        "df.shape"
      ]
    },
    {
      "cell_type": "code",
      "execution_count": null,
      "metadata": {
        "colab": {
          "base_uri": "https://localhost:8080/",
          "height": 423
        },
        "id": "9WaNygCeXUfs",
        "outputId": "6f8a02a7-15c9-452d-a3d5-9bcec4bdd969"
      },
      "outputs": [
        {
          "data": {
            "text/html": [
              "\n",
              "  <div id=\"df-71e4f3e4-d674-4125-9a16-1bcc72335fc1\">\n",
              "    <div class=\"colab-df-container\">\n",
              "      <div>\n",
              "<style scoped>\n",
              "    .dataframe tbody tr th:only-of-type {\n",
              "        vertical-align: middle;\n",
              "    }\n",
              "\n",
              "    .dataframe tbody tr th {\n",
              "        vertical-align: top;\n",
              "    }\n",
              "\n",
              "    .dataframe thead th {\n",
              "        text-align: right;\n",
              "    }\n",
              "</style>\n",
              "<table border=\"1\" class=\"dataframe\">\n",
              "  <thead>\n",
              "    <tr style=\"text-align: right;\">\n",
              "      <th></th>\n",
              "      <th>FileName</th>\n",
              "      <th>Label</th>\n",
              "    </tr>\n",
              "  </thead>\n",
              "  <tbody>\n",
              "    <tr>\n",
              "      <th>0</th>\n",
              "      <td>23258.png</td>\n",
              "      <td>9</td>\n",
              "    </tr>\n",
              "    <tr>\n",
              "      <th>1</th>\n",
              "      <td>39200.png</td>\n",
              "      <td>9</td>\n",
              "    </tr>\n",
              "    <tr>\n",
              "      <th>2</th>\n",
              "      <td>29013.png</td>\n",
              "      <td>9</td>\n",
              "    </tr>\n",
              "    <tr>\n",
              "      <th>3</th>\n",
              "      <td>20751.png</td>\n",
              "      <td>9</td>\n",
              "    </tr>\n",
              "    <tr>\n",
              "      <th>4</th>\n",
              "      <td>10686.png</td>\n",
              "      <td>9</td>\n",
              "    </tr>\n",
              "    <tr>\n",
              "      <th>...</th>\n",
              "      <td>...</td>\n",
              "      <td>...</td>\n",
              "    </tr>\n",
              "    <tr>\n",
              "      <th>43465</th>\n",
              "      <td>31645.png</td>\n",
              "      <td>5</td>\n",
              "    </tr>\n",
              "    <tr>\n",
              "      <th>43466</th>\n",
              "      <td>33734.png</td>\n",
              "      <td>5</td>\n",
              "    </tr>\n",
              "    <tr>\n",
              "      <th>43467</th>\n",
              "      <td>22639.png</td>\n",
              "      <td>5</td>\n",
              "    </tr>\n",
              "    <tr>\n",
              "      <th>43468</th>\n",
              "      <td>21330.png</td>\n",
              "      <td>5</td>\n",
              "    </tr>\n",
              "    <tr>\n",
              "      <th>43469</th>\n",
              "      <td>37552.png</td>\n",
              "      <td>5</td>\n",
              "    </tr>\n",
              "  </tbody>\n",
              "</table>\n",
              "<p>43470 rows × 2 columns</p>\n",
              "</div>\n",
              "      <button class=\"colab-df-convert\" onclick=\"convertToInteractive('df-71e4f3e4-d674-4125-9a16-1bcc72335fc1')\"\n",
              "              title=\"Convert this dataframe to an interactive table.\"\n",
              "              style=\"display:none;\">\n",
              "        \n",
              "  <svg xmlns=\"http://www.w3.org/2000/svg\" height=\"24px\"viewBox=\"0 0 24 24\"\n",
              "       width=\"24px\">\n",
              "    <path d=\"M0 0h24v24H0V0z\" fill=\"none\"/>\n",
              "    <path d=\"M18.56 5.44l.94 2.06.94-2.06 2.06-.94-2.06-.94-.94-2.06-.94 2.06-2.06.94zm-11 1L8.5 8.5l.94-2.06 2.06-.94-2.06-.94L8.5 2.5l-.94 2.06-2.06.94zm10 10l.94 2.06.94-2.06 2.06-.94-2.06-.94-.94-2.06-.94 2.06-2.06.94z\"/><path d=\"M17.41 7.96l-1.37-1.37c-.4-.4-.92-.59-1.43-.59-.52 0-1.04.2-1.43.59L10.3 9.45l-7.72 7.72c-.78.78-.78 2.05 0 2.83L4 21.41c.39.39.9.59 1.41.59.51 0 1.02-.2 1.41-.59l7.78-7.78 2.81-2.81c.8-.78.8-2.07 0-2.86zM5.41 20L4 18.59l7.72-7.72 1.47 1.35L5.41 20z\"/>\n",
              "  </svg>\n",
              "      </button>\n",
              "      \n",
              "  <style>\n",
              "    .colab-df-container {\n",
              "      display:flex;\n",
              "      flex-wrap:wrap;\n",
              "      gap: 12px;\n",
              "    }\n",
              "\n",
              "    .colab-df-convert {\n",
              "      background-color: #E8F0FE;\n",
              "      border: none;\n",
              "      border-radius: 50%;\n",
              "      cursor: pointer;\n",
              "      display: none;\n",
              "      fill: #1967D2;\n",
              "      height: 32px;\n",
              "      padding: 0 0 0 0;\n",
              "      width: 32px;\n",
              "    }\n",
              "\n",
              "    .colab-df-convert:hover {\n",
              "      background-color: #E2EBFA;\n",
              "      box-shadow: 0px 1px 2px rgba(60, 64, 67, 0.3), 0px 1px 3px 1px rgba(60, 64, 67, 0.15);\n",
              "      fill: #174EA6;\n",
              "    }\n",
              "\n",
              "    [theme=dark] .colab-df-convert {\n",
              "      background-color: #3B4455;\n",
              "      fill: #D2E3FC;\n",
              "    }\n",
              "\n",
              "    [theme=dark] .colab-df-convert:hover {\n",
              "      background-color: #434B5C;\n",
              "      box-shadow: 0px 1px 3px 1px rgba(0, 0, 0, 0.15);\n",
              "      filter: drop-shadow(0px 1px 2px rgba(0, 0, 0, 0.3));\n",
              "      fill: #FFFFFF;\n",
              "    }\n",
              "  </style>\n",
              "\n",
              "      <script>\n",
              "        const buttonEl =\n",
              "          document.querySelector('#df-71e4f3e4-d674-4125-9a16-1bcc72335fc1 button.colab-df-convert');\n",
              "        buttonEl.style.display =\n",
              "          google.colab.kernel.accessAllowed ? 'block' : 'none';\n",
              "\n",
              "        async function convertToInteractive(key) {\n",
              "          const element = document.querySelector('#df-71e4f3e4-d674-4125-9a16-1bcc72335fc1');\n",
              "          const dataTable =\n",
              "            await google.colab.kernel.invokeFunction('convertToInteractive',\n",
              "                                                     [key], {});\n",
              "          if (!dataTable) return;\n",
              "\n",
              "          const docLinkHtml = 'Like what you see? Visit the ' +\n",
              "            '<a target=\"_blank\" href=https://colab.research.google.com/notebooks/data_table.ipynb>data table notebook</a>'\n",
              "            + ' to learn more about interactive tables.';\n",
              "          element.innerHTML = '';\n",
              "          dataTable['output_type'] = 'display_data';\n",
              "          await google.colab.output.renderOutput(dataTable, element);\n",
              "          const docLink = document.createElement('div');\n",
              "          docLink.innerHTML = docLinkHtml;\n",
              "          element.appendChild(docLink);\n",
              "        }\n",
              "      </script>\n",
              "    </div>\n",
              "  </div>\n",
              "  "
            ],
            "text/plain": [
              "        FileName  Label\n",
              "0      23258.png      9\n",
              "1      39200.png      9\n",
              "2      29013.png      9\n",
              "3      20751.png      9\n",
              "4      10686.png      9\n",
              "...          ...    ...\n",
              "43465  31645.png      5\n",
              "43466  33734.png      5\n",
              "43467  22639.png      5\n",
              "43468  21330.png      5\n",
              "43469  37552.png      5\n",
              "\n",
              "[43470 rows x 2 columns]"
            ]
          },
          "execution_count": 51,
          "metadata": {},
          "output_type": "execute_result"
        }
      ],
      "source": [
        "df = pd.read_csv(\"/content/drive/MyDrive/Assign2Dataset/Data/train/train.csv\")\n",
        "df"
      ]
    },
    {
      "cell_type": "code",
      "source": [
        "import numpy as np\n",
        "df = pd.read_csv(\"/content/drive/MyDrive/minset/test/test.csv\")\n",
        "df = df.sample(frac=1)\n",
        "\n",
        "msk = np.random.rand(len(df)) < 0.5\n",
        "\n",
        "test = df[msk]\n",
        "\n",
        "val = df[~msk]"
      ],
      "metadata": {
        "id": "2dX3VUi5yRsH"
      },
      "execution_count": null,
      "outputs": []
    },
    {
      "cell_type": "code",
      "source": [
        "val.head()"
      ],
      "metadata": {
        "colab": {
          "base_uri": "https://localhost:8080/",
          "height": 206
        },
        "id": "87_YwA80ypX4",
        "outputId": "a8c20a4b-bf0c-4ade-fa77-9393dee0dca4"
      },
      "execution_count": null,
      "outputs": [
        {
          "output_type": "execute_result",
          "data": {
            "text/plain": [
              "      FileName  Label\n",
              "2666  4468.png      7\n",
              "721   3339.png      9\n",
              "2827  5671.png      7\n",
              "2041  9691.png      7\n",
              "1883  1765.png      0"
            ],
            "text/html": [
              "\n",
              "  <div id=\"df-7a908f40-bd25-4e8f-b8e7-8c019a1d1406\">\n",
              "    <div class=\"colab-df-container\">\n",
              "      <div>\n",
              "<style scoped>\n",
              "    .dataframe tbody tr th:only-of-type {\n",
              "        vertical-align: middle;\n",
              "    }\n",
              "\n",
              "    .dataframe tbody tr th {\n",
              "        vertical-align: top;\n",
              "    }\n",
              "\n",
              "    .dataframe thead th {\n",
              "        text-align: right;\n",
              "    }\n",
              "</style>\n",
              "<table border=\"1\" class=\"dataframe\">\n",
              "  <thead>\n",
              "    <tr style=\"text-align: right;\">\n",
              "      <th></th>\n",
              "      <th>FileName</th>\n",
              "      <th>Label</th>\n",
              "    </tr>\n",
              "  </thead>\n",
              "  <tbody>\n",
              "    <tr>\n",
              "      <th>2666</th>\n",
              "      <td>4468.png</td>\n",
              "      <td>7</td>\n",
              "    </tr>\n",
              "    <tr>\n",
              "      <th>721</th>\n",
              "      <td>3339.png</td>\n",
              "      <td>9</td>\n",
              "    </tr>\n",
              "    <tr>\n",
              "      <th>2827</th>\n",
              "      <td>5671.png</td>\n",
              "      <td>7</td>\n",
              "    </tr>\n",
              "    <tr>\n",
              "      <th>2041</th>\n",
              "      <td>9691.png</td>\n",
              "      <td>7</td>\n",
              "    </tr>\n",
              "    <tr>\n",
              "      <th>1883</th>\n",
              "      <td>1765.png</td>\n",
              "      <td>0</td>\n",
              "    </tr>\n",
              "  </tbody>\n",
              "</table>\n",
              "</div>\n",
              "      <button class=\"colab-df-convert\" onclick=\"convertToInteractive('df-7a908f40-bd25-4e8f-b8e7-8c019a1d1406')\"\n",
              "              title=\"Convert this dataframe to an interactive table.\"\n",
              "              style=\"display:none;\">\n",
              "        \n",
              "  <svg xmlns=\"http://www.w3.org/2000/svg\" height=\"24px\"viewBox=\"0 0 24 24\"\n",
              "       width=\"24px\">\n",
              "    <path d=\"M0 0h24v24H0V0z\" fill=\"none\"/>\n",
              "    <path d=\"M18.56 5.44l.94 2.06.94-2.06 2.06-.94-2.06-.94-.94-2.06-.94 2.06-2.06.94zm-11 1L8.5 8.5l.94-2.06 2.06-.94-2.06-.94L8.5 2.5l-.94 2.06-2.06.94zm10 10l.94 2.06.94-2.06 2.06-.94-2.06-.94-.94-2.06-.94 2.06-2.06.94z\"/><path d=\"M17.41 7.96l-1.37-1.37c-.4-.4-.92-.59-1.43-.59-.52 0-1.04.2-1.43.59L10.3 9.45l-7.72 7.72c-.78.78-.78 2.05 0 2.83L4 21.41c.39.39.9.59 1.41.59.51 0 1.02-.2 1.41-.59l7.78-7.78 2.81-2.81c.8-.78.8-2.07 0-2.86zM5.41 20L4 18.59l7.72-7.72 1.47 1.35L5.41 20z\"/>\n",
              "  </svg>\n",
              "      </button>\n",
              "      \n",
              "  <style>\n",
              "    .colab-df-container {\n",
              "      display:flex;\n",
              "      flex-wrap:wrap;\n",
              "      gap: 12px;\n",
              "    }\n",
              "\n",
              "    .colab-df-convert {\n",
              "      background-color: #E8F0FE;\n",
              "      border: none;\n",
              "      border-radius: 50%;\n",
              "      cursor: pointer;\n",
              "      display: none;\n",
              "      fill: #1967D2;\n",
              "      height: 32px;\n",
              "      padding: 0 0 0 0;\n",
              "      width: 32px;\n",
              "    }\n",
              "\n",
              "    .colab-df-convert:hover {\n",
              "      background-color: #E2EBFA;\n",
              "      box-shadow: 0px 1px 2px rgba(60, 64, 67, 0.3), 0px 1px 3px 1px rgba(60, 64, 67, 0.15);\n",
              "      fill: #174EA6;\n",
              "    }\n",
              "\n",
              "    [theme=dark] .colab-df-convert {\n",
              "      background-color: #3B4455;\n",
              "      fill: #D2E3FC;\n",
              "    }\n",
              "\n",
              "    [theme=dark] .colab-df-convert:hover {\n",
              "      background-color: #434B5C;\n",
              "      box-shadow: 0px 1px 3px 1px rgba(0, 0, 0, 0.15);\n",
              "      filter: drop-shadow(0px 1px 2px rgba(0, 0, 0, 0.3));\n",
              "      fill: #FFFFFF;\n",
              "    }\n",
              "  </style>\n",
              "\n",
              "      <script>\n",
              "        const buttonEl =\n",
              "          document.querySelector('#df-7a908f40-bd25-4e8f-b8e7-8c019a1d1406 button.colab-df-convert');\n",
              "        buttonEl.style.display =\n",
              "          google.colab.kernel.accessAllowed ? 'block' : 'none';\n",
              "\n",
              "        async function convertToInteractive(key) {\n",
              "          const element = document.querySelector('#df-7a908f40-bd25-4e8f-b8e7-8c019a1d1406');\n",
              "          const dataTable =\n",
              "            await google.colab.kernel.invokeFunction('convertToInteractive',\n",
              "                                                     [key], {});\n",
              "          if (!dataTable) return;\n",
              "\n",
              "          const docLinkHtml = 'Like what you see? Visit the ' +\n",
              "            '<a target=\"_blank\" href=https://colab.research.google.com/notebooks/data_table.ipynb>data table notebook</a>'\n",
              "            + ' to learn more about interactive tables.';\n",
              "          element.innerHTML = '';\n",
              "          dataTable['output_type'] = 'display_data';\n",
              "          await google.colab.output.renderOutput(dataTable, element);\n",
              "          const docLink = document.createElement('div');\n",
              "          docLink.innerHTML = docLinkHtml;\n",
              "          element.appendChild(docLink);\n",
              "        }\n",
              "      </script>\n",
              "    </div>\n",
              "  </div>\n",
              "  "
            ]
          },
          "metadata": {},
          "execution_count": 15
        }
      ]
    },
    {
      "cell_type": "code",
      "source": [
        "test.to_csv(\"/content/drive/MyDrive/minset/test.csv\",index=False)\n",
        "val.to_csv(\"/content/drive/MyDrive/minset/val.csv\",index=False)"
      ],
      "metadata": {
        "id": "Xys3rRccyuyj"
      },
      "execution_count": null,
      "outputs": []
    },
    {
      "cell_type": "code",
      "source": [
        "path  =\"/content/drive/MyDrive/minset/test/test_new\"\n",
        "l = os.listdir(path)"
      ],
      "metadata": {
        "id": "e2OtrLN30RSW"
      },
      "execution_count": null,
      "outputs": []
    },
    {
      "cell_type": "code",
      "source": [
        "len(l)"
      ],
      "metadata": {
        "colab": {
          "base_uri": "https://localhost:8080/"
        },
        "id": "vlusVFiy0ZlB",
        "outputId": "cd5c80aa-d838-44a9-f843-113e66bbe5d5"
      },
      "execution_count": null,
      "outputs": [
        {
          "output_type": "execute_result",
          "data": {
            "text/plain": [
              "10000"
            ]
          },
          "metadata": {},
          "execution_count": 55
        }
      ]
    },
    {
      "cell_type": "code",
      "source": [
        "l"
      ],
      "metadata": {
        "colab": {
          "base_uri": "https://localhost:8080/"
        },
        "id": "ZeNM88fL1zR5",
        "outputId": "a9016c6b-1721-4dbe-9c07-d0f483fd599b"
      },
      "execution_count": null,
      "outputs": [
        {
          "output_type": "execute_result",
          "data": {
            "text/plain": [
              "['916.png',\n",
              " '7599.png',\n",
              " '4846.png',\n",
              " '2265.png',\n",
              " '7305.png',\n",
              " '3157.png',\n",
              " '8730.png',\n",
              " '781.png',\n",
              " '9728.png',\n",
              " '6954.png',\n",
              " '7056.png',\n",
              " '1697.png',\n",
              " '5849.png',\n",
              " '8832.png',\n",
              " '539.png',\n",
              " '8149.png',\n",
              " '7733.png',\n",
              " '6028.png',\n",
              " '2997.png',\n",
              " '792.png',\n",
              " '5955.png',\n",
              " '6438.png',\n",
              " '9282.png',\n",
              " '4096.png',\n",
              " '2190.png',\n",
              " '6427.png',\n",
              " '9929.png',\n",
              " '151.png',\n",
              " '7482.png',\n",
              " '1526.png',\n",
              " '9345.png',\n",
              " '9658.png',\n",
              " '4407.png',\n",
              " '9538.png',\n",
              " '9201.png',\n",
              " '5294.png',\n",
              " '1086.png',\n",
              " '7158.png',\n",
              " '9862.png',\n",
              " '4441.png',\n",
              " '7639.png',\n",
              " '1396.png',\n",
              " '8122.png',\n",
              " '8706.png',\n",
              " '9079.png',\n",
              " '9093.png',\n",
              " '8860.png',\n",
              " '4140.png',\n",
              " '6876.png',\n",
              " '4622.png',\n",
              " '2719.png',\n",
              " '9978.png',\n",
              " '1348.png',\n",
              " '1621.png',\n",
              " '4614.png',\n",
              " '858.png',\n",
              " '1471.png',\n",
              " '3353.png',\n",
              " '2321.png',\n",
              " '8145.png',\n",
              " '9053.png',\n",
              " '4.png',\n",
              " '4849.png',\n",
              " '3524.png',\n",
              " '3288.png',\n",
              " '5611.png',\n",
              " '3858.png',\n",
              " '4552.png',\n",
              " '63.png',\n",
              " '6691.png',\n",
              " '531.png',\n",
              " '9071.png',\n",
              " '4824.png',\n",
              " '8523.png',\n",
              " '3404.png',\n",
              " '5219.png',\n",
              " '2482.png',\n",
              " '2577.png',\n",
              " '9868.png',\n",
              " '3733.png',\n",
              " '898.png',\n",
              " '4559.png',\n",
              " '7912.png',\n",
              " '4322.png',\n",
              " '3620.png',\n",
              " '3308.png',\n",
              " '7763.png',\n",
              " '7649.png',\n",
              " '5111.png',\n",
              " '4669.png',\n",
              " '2678.png',\n",
              " '4276.png',\n",
              " '2535.png',\n",
              " '6167.png',\n",
              " '2545.png',\n",
              " '7249.png',\n",
              " '3001.png',\n",
              " '2144.png',\n",
              " '4524.png',\n",
              " '7996.png',\n",
              " '1981.png',\n",
              " '8740.png',\n",
              " '2526.png',\n",
              " '5333.png',\n",
              " '3467.png',\n",
              " '155.png',\n",
              " '9434.png',\n",
              " '7404.png',\n",
              " '1461.png',\n",
              " '8597.png',\n",
              " '5949.png',\n",
              " '8410.png',\n",
              " '8762.png',\n",
              " '5189.png',\n",
              " '4325.png',\n",
              " '8165.png',\n",
              " '3457.png',\n",
              " '9157.png',\n",
              " '7709.png',\n",
              " '9156.png',\n",
              " '5902.png',\n",
              " '1624.png',\n",
              " '4291.png',\n",
              " '5595.png',\n",
              " '6440.png',\n",
              " '6823.png',\n",
              " '5926.png',\n",
              " '6525.png',\n",
              " '3947.png',\n",
              " '3979.png',\n",
              " '8817.png',\n",
              " '1960.png',\n",
              " '1576.png',\n",
              " '367.png',\n",
              " '2805.png',\n",
              " '2738.png',\n",
              " '9504.png',\n",
              " '8451.png',\n",
              " '1161.png',\n",
              " '9975.png',\n",
              " '4533.png',\n",
              " '6598.png',\n",
              " '4835.png',\n",
              " '3095.png',\n",
              " '761.png',\n",
              " '9343.png',\n",
              " '2900.png',\n",
              " '9168.png',\n",
              " '6801.png',\n",
              " '301.png',\n",
              " '8990.png',\n",
              " '8349.png',\n",
              " '8348.png',\n",
              " '5557.png',\n",
              " '5674.png',\n",
              " '1630.png',\n",
              " '4107.png',\n",
              " '9956.png',\n",
              " '9162.png',\n",
              " '5937.png',\n",
              " '8124.png',\n",
              " '6937.png',\n",
              " '2065.png',\n",
              " '6059.png',\n",
              " '6018.png',\n",
              " '7298.png',\n",
              " '7795.png',\n",
              " '528.png',\n",
              " '8897.png',\n",
              " '50.png',\n",
              " '8908.png',\n",
              " '5104.png',\n",
              " '7552.png',\n",
              " '2037.png',\n",
              " '1048.png',\n",
              " '7029.png',\n",
              " '3099.png',\n",
              " '7761.png',\n",
              " '8891.png',\n",
              " '4610.png',\n",
              " '6699.png',\n",
              " '3618.png',\n",
              " '2963.png',\n",
              " '2494.png',\n",
              " '4587.png',\n",
              " '5207.png',\n",
              " '8459.png',\n",
              " '2404.png',\n",
              " '6278.png',\n",
              " '5313.png',\n",
              " '7398.png',\n",
              " '5669.png',\n",
              " '9109.png',\n",
              " '942.png',\n",
              " '7904.png',\n",
              " '8784.png',\n",
              " '9241.png',\n",
              " '5403.png',\n",
              " '7712.png',\n",
              " '2222.png',\n",
              " '7163.png',\n",
              " '2155.png',\n",
              " '9883.png',\n",
              " '2796.png',\n",
              " '3631.png',\n",
              " '3221.png',\n",
              " '6952.png',\n",
              " '2475.png',\n",
              " '1333.png',\n",
              " '4131.png',\n",
              " '1995.png',\n",
              " '796.png',\n",
              " '4648.png',\n",
              " '2460.png',\n",
              " '6527.png',\n",
              " '1764.png',\n",
              " '6568.png',\n",
              " '7338.png',\n",
              " '9716.png',\n",
              " '5642.png',\n",
              " '7936.png',\n",
              " '8418.png',\n",
              " '9512.png',\n",
              " '2940.png',\n",
              " '5228.png',\n",
              " '7483.png',\n",
              " '7222.png',\n",
              " '4037.png',\n",
              " '1038.png',\n",
              " '6183.png',\n",
              " '9184.png',\n",
              " '1256.png',\n",
              " '4280.png',\n",
              " '2786.png',\n",
              " '3064.png',\n",
              " '2294.png',\n",
              " '3742.png',\n",
              " '1433.png',\n",
              " '6574.png',\n",
              " '6303.png',\n",
              " '3079.png',\n",
              " '8898.png',\n",
              " '1100.png',\n",
              " '3596.png',\n",
              " '9080.png',\n",
              " '3050.png',\n",
              " '9524.png',\n",
              " '8697.png',\n",
              " '4598.png',\n",
              " '5701.png',\n",
              " '8712.png',\n",
              " '8128.png',\n",
              " '7546.png',\n",
              " '4225.png',\n",
              " '440.png',\n",
              " '2179.png',\n",
              " '2584.png',\n",
              " '7399.png',\n",
              " '8120.png',\n",
              " '3835.png',\n",
              " '3585.png',\n",
              " '3242.png',\n",
              " '9585.png',\n",
              " '1476.png',\n",
              " '2623.png',\n",
              " '4609.png',\n",
              " '8272.png',\n",
              " '5390.png',\n",
              " '3589.png',\n",
              " '4121.png',\n",
              " '9287.png',\n",
              " '711.png',\n",
              " '3343.png',\n",
              " '5920.png',\n",
              " '3447.png',\n",
              " '1675.png',\n",
              " '8852.png',\n",
              " '5155.png',\n",
              " '7701.png',\n",
              " '3239.png',\n",
              " '9262.png',\n",
              " '2551.png',\n",
              " '3664.png',\n",
              " '1098.png',\n",
              " '2837.png',\n",
              " '3094.png',\n",
              " '8.png',\n",
              " '7418.png',\n",
              " '7290.png',\n",
              " '4780.png',\n",
              " '1593.png',\n",
              " '3574.png',\n",
              " '4082.png',\n",
              " '8090.png',\n",
              " '7809.png',\n",
              " '6043.png',\n",
              " '5843.png',\n",
              " '1325.png',\n",
              " '272.png',\n",
              " '4678.png',\n",
              " '6610.png',\n",
              " '7269.png',\n",
              " '5848.png',\n",
              " '7877.png',\n",
              " '3185.png',\n",
              " '4050.png',\n",
              " '2633.png',\n",
              " '6708.png',\n",
              " '3085.png',\n",
              " '4091.png',\n",
              " '1613.png',\n",
              " '5358.png',\n",
              " '1040.png',\n",
              " '5908.png',\n",
              " '5075.png',\n",
              " '801.png',\n",
              " '1886.png',\n",
              " '7595.png',\n",
              " '6911.png',\n",
              " '2110.png',\n",
              " '3987.png',\n",
              " '8255.png',\n",
              " '3522.png',\n",
              " '3365.png',\n",
              " '9335.png',\n",
              " '1093.png',\n",
              " '4463.png',\n",
              " '9233.png',\n",
              " '9508.png',\n",
              " '7574.png',\n",
              " '2834.png',\n",
              " '1805.png',\n",
              " '466.png',\n",
              " '5471.png',\n",
              " '800.png',\n",
              " '9223.png',\n",
              " '9840.png',\n",
              " '9870.png',\n",
              " '1257.png',\n",
              " '7027.png',\n",
              " '2004.png',\n",
              " '1528.png',\n",
              " '4212.png',\n",
              " '9717.png',\n",
              " '3359.png',\n",
              " '6658.png',\n",
              " '8310.png',\n",
              " '4556.png',\n",
              " '9507.png',\n",
              " '9509.png',\n",
              " '2570.png',\n",
              " '3284.png',\n",
              " '372.png',\n",
              " '805.png',\n",
              " '6777.png',\n",
              " '9466.png',\n",
              " '7124.png',\n",
              " '6269.png',\n",
              " '6680.png',\n",
              " '2614.png',\n",
              " '6053.png',\n",
              " '1716.png',\n",
              " '9429.png',\n",
              " '5777.png',\n",
              " '33.png',\n",
              " '3789.png',\n",
              " '3168.png',\n",
              " '904.png',\n",
              " '4247.png',\n",
              " '5187.png',\n",
              " '709.png',\n",
              " '8197.png',\n",
              " '8725.png',\n",
              " '4813.png',\n",
              " '2838.png',\n",
              " '2586.png',\n",
              " '157.png',\n",
              " '5532.png',\n",
              " '1425.png',\n",
              " '9248.png',\n",
              " '3659.png',\n",
              " '6316.png',\n",
              " '2562.png',\n",
              " '1106.png',\n",
              " '3916.png',\n",
              " '9534.png',\n",
              " '2684.png',\n",
              " '2072.png',\n",
              " '9110.png',\n",
              " '4271.png',\n",
              " '3755.png',\n",
              " '6787.png',\n",
              " '7933.png',\n",
              " '5079.png',\n",
              " '1709.png',\n",
              " '1844.png',\n",
              " '7123.png',\n",
              " '8972.png',\n",
              " '7543.png',\n",
              " '8316.png',\n",
              " '2532.png',\n",
              " '9767.png',\n",
              " '870.png',\n",
              " '7719.png',\n",
              " '7110.png',\n",
              " '4968.png',\n",
              " '369.png',\n",
              " '2901.png',\n",
              " '9816.png',\n",
              " '2049.png',\n",
              " '2677.png',\n",
              " '5806.png',\n",
              " '3643.png',\n",
              " '5580.png',\n",
              " '4268.png',\n",
              " '8023.png',\n",
              " '1380.png',\n",
              " '994.png',\n",
              " '2712.png',\n",
              " '9379.png',\n",
              " '747.png',\n",
              " '4725.png',\n",
              " '1590.png',\n",
              " '6236.png',\n",
              " '186.png',\n",
              " '7711.png',\n",
              " '2039.png',\n",
              " '7944.png',\n",
              " '5224.png',\n",
              " '5824.png',\n",
              " '6166.png',\n",
              " '9180.png',\n",
              " '6270.png',\n",
              " '6235.png',\n",
              " '42.png',\n",
              " '5802.png',\n",
              " '2591.png',\n",
              " '7352.png',\n",
              " '6046.png',\n",
              " '1110.png',\n",
              " '4795.png',\n",
              " '3189.png',\n",
              " '282.png',\n",
              " '6686.png',\n",
              " '6095.png',\n",
              " '1178.png',\n",
              " '9146.png',\n",
              " '4729.png',\n",
              " '7541.png',\n",
              " '3706.png',\n",
              " '2763.png',\n",
              " '9510.png',\n",
              " '35.png',\n",
              " '7369.png',\n",
              " '6603.png',\n",
              " '9932.png',\n",
              " '3356.png',\n",
              " '4173.png',\n",
              " '2646.png',\n",
              " '1638.png',\n",
              " '1962.png',\n",
              " '5346.png',\n",
              " '1194.png',\n",
              " '6245.png',\n",
              " '7336.png',\n",
              " '373.png',\n",
              " '1005.png',\n",
              " '8371.png',\n",
              " '3769.png',\n",
              " '977.png',\n",
              " '5655.png',\n",
              " '1511.png',\n",
              " '5083.png',\n",
              " '7466.png',\n",
              " '9030.png',\n",
              " '2301.png',\n",
              " '6780.png',\n",
              " '5791.png',\n",
              " '5836.png',\n",
              " '6012.png',\n",
              " '4625.png',\n",
              " '329.png',\n",
              " '5540.png',\n",
              " '9392.png',\n",
              " '7092.png',\n",
              " '639.png',\n",
              " '1314.png',\n",
              " '4657.png',\n",
              " '5633.png',\n",
              " '8154.png',\n",
              " '4529.png',\n",
              " '3974.png',\n",
              " '9178.png',\n",
              " '2966.png',\n",
              " '601.png',\n",
              " '2286.png',\n",
              " '3368.png',\n",
              " '2522.png',\n",
              " '4355.png',\n",
              " '6979.png',\n",
              " '5239.png',\n",
              " '6770.png',\n",
              " '5598.png',\n",
              " '6410.png',\n",
              " '1369.png',\n",
              " '1983.png',\n",
              " '4603.png',\n",
              " '8370.png',\n",
              " '1592.png',\n",
              " '1270.png',\n",
              " '2256.png',\n",
              " '951.png',\n",
              " '484.png',\n",
              " '1659.png',\n",
              " '337.png',\n",
              " '8736.png',\n",
              " '716.png',\n",
              " '8761.png',\n",
              " '4114.png',\n",
              " '1216.png',\n",
              " '8576.png',\n",
              " '2086.png',\n",
              " '8471.png',\n",
              " '6311.png',\n",
              " '4162.png',\n",
              " '2497.png',\n",
              " '562.png',\n",
              " '1925.png',\n",
              " '2200.png',\n",
              " '8966.png',\n",
              " '5468.png',\n",
              " '9077.png',\n",
              " '7255.png',\n",
              " '1580.png',\n",
              " '1338.png',\n",
              " '7159.png',\n",
              " '3434.png',\n",
              " '3866.png',\n",
              " '4542.png',\n",
              " '2850.png',\n",
              " '9570.png',\n",
              " '2688.png',\n",
              " '3628.png',\n",
              " '1035.png',\n",
              " '785.png',\n",
              " '4619.png',\n",
              " '2484.png',\n",
              " '4289.png',\n",
              " '1273.png',\n",
              " '714.png',\n",
              " '5798.png',\n",
              " '1859.png',\n",
              " '1213.png',\n",
              " '8600.png',\n",
              " '3227.png',\n",
              " '7594.png',\n",
              " '7555.png',\n",
              " '7613.png',\n",
              " '9948.png',\n",
              " '3059.png',\n",
              " '29.png',\n",
              " '1794.png',\n",
              " '8591.png',\n",
              " '437.png',\n",
              " '746.png',\n",
              " '7037.png',\n",
              " '6212.png',\n",
              " '9651.png',\n",
              " '8979.png',\n",
              " '6814.png',\n",
              " '7660.png',\n",
              " '713.png',\n",
              " '6263.png',\n",
              " '9734.png',\n",
              " '9475.png',\n",
              " '6234.png',\n",
              " '7536.png',\n",
              " '7343.png',\n",
              " '7461.png',\n",
              " '739.png',\n",
              " '1195.png',\n",
              " '2800.png',\n",
              " '1583.png',\n",
              " '9050.png',\n",
              " '3510.png',\n",
              " '6870.png',\n",
              " '3702.png',\n",
              " '8487.png',\n",
              " '630.png',\n",
              " '3907.png',\n",
              " '5454.png',\n",
              " '9986.png',\n",
              " '5191.png',\n",
              " '142.png',\n",
              " '1909.png',\n",
              " '1971.png',\n",
              " '1832.png',\n",
              " '8758.png',\n",
              " '8946.png',\n",
              " '152.png',\n",
              " '5206.png',\n",
              " '3689.png',\n",
              " '8508.png',\n",
              " '7362.png',\n",
              " '6025.png',\n",
              " '5274.png',\n",
              " '2949.png',\n",
              " '6835.png',\n",
              " '9039.png',\n",
              " '4845.png',\n",
              " '2362.png',\n",
              " '7353.png',\n",
              " '612.png',\n",
              " '5182.png',\n",
              " '4830.png',\n",
              " '9355.png',\n",
              " '6288.png',\n",
              " '5727.png',\n",
              " '5823.png',\n",
              " '5220.png',\n",
              " '830.png',\n",
              " '8701.png',\n",
              " '2780.png',\n",
              " '7952.png',\n",
              " '8059.png',\n",
              " '7888.png',\n",
              " '4981.png',\n",
              " '4317.png',\n",
              " '7841.png',\n",
              " '875.png',\n",
              " '3580.png',\n",
              " '4366.png',\n",
              " '4163.png',\n",
              " '5638.png',\n",
              " '4659.png',\n",
              " '2931.png',\n",
              " '5214.png',\n",
              " '8752.png',\n",
              " '108.png',\n",
              " '3046.png',\n",
              " '1871.png',\n",
              " '9887.png',\n",
              " '8461.png',\n",
              " '5049.png',\n",
              " '494.png',\n",
              " '2193.png',\n",
              " '396.png',\n",
              " '2186.png',\n",
              " '852.png',\n",
              " '6988.png',\n",
              " '6774.png',\n",
              " '8525.png',\n",
              " '8717.png',\n",
              " '9607.png',\n",
              " '5147.png',\n",
              " '3551.png',\n",
              " '4935.png',\n",
              " '7479.png',\n",
              " '963.png',\n",
              " '4422.png',\n",
              " '9925.png',\n",
              " '141.png',\n",
              " '9553.png',\n",
              " '8092.png',\n",
              " '3478.png',\n",
              " '7031.png',\n",
              " '3832.png',\n",
              " '9913.png',\n",
              " '635.png',\n",
              " '2727.png',\n",
              " '6377.png',\n",
              " '3354.png',\n",
              " '4626.png',\n",
              " '1756.png',\n",
              " '925.png',\n",
              " '2403.png',\n",
              " '2687.png',\n",
              " '4104.png',\n",
              " '5320.png',\n",
              " '4768.png',\n",
              " '584.png',\n",
              " '678.png',\n",
              " '6846.png',\n",
              " '6690.png',\n",
              " '8621.png',\n",
              " '5681.png',\n",
              " '9271.png',\n",
              " '8105.png',\n",
              " '7983.png',\n",
              " '2046.png',\n",
              " '5796.png',\n",
              " '6546.png',\n",
              " '6981.png',\n",
              " '9299.png',\n",
              " '246.png',\n",
              " '3126.png',\n",
              " '5440.png',\n",
              " '9152.png',\n",
              " '4865.png',\n",
              " '3799.png',\n",
              " '3446.png',\n",
              " '5662.png',\n",
              " '314.png',\n",
              " '5404.png',\n",
              " '9853.png',\n",
              " '7196.png',\n",
              " '2803.png',\n",
              " '4211.png',\n",
              " '2603.png',\n",
              " '7822.png',\n",
              " '6822.png',\n",
              " '5518.png',\n",
              " '7493.png',\n",
              " '3058.png',\n",
              " '4293.png',\n",
              " '4470.png',\n",
              " '8643.png',\n",
              " '7300.png',\n",
              " '4862.png',\n",
              " '7016.png',\n",
              " '6695.png',\n",
              " '1262.png',\n",
              " '9413.png',\n",
              " '8857.png',\n",
              " '3877.png',\n",
              " '6694.png',\n",
              " '9266.png',\n",
              " '3278.png',\n",
              " '9604.png',\n",
              " '9976.png',\n",
              " '235.png',\n",
              " '5397.png',\n",
              " '4962.png',\n",
              " '6387.png',\n",
              " '3025.png',\n",
              " '8359.png',\n",
              " '258.png',\n",
              " '1075.png',\n",
              " '685.png',\n",
              " '3249.png',\n",
              " '4446.png',\n",
              " '2022.png',\n",
              " '9605.png',\n",
              " '926.png',\n",
              " '3088.png',\n",
              " '294.png',\n",
              " '2581.png',\n",
              " '9257.png',\n",
              " '6519.png',\n",
              " '6873.png',\n",
              " '8421.png',\n",
              " '8229.png',\n",
              " '3985.png',\n",
              " '4957.png',\n",
              " '1190.png',\n",
              " '5074.png',\n",
              " '2018.png',\n",
              " '4384.png',\n",
              " '6758.png',\n",
              " '2596.png',\n",
              " '9878.png',\n",
              " '6051.png',\n",
              " '8561.png',\n",
              " '1241.png',\n",
              " '7498.png',\n",
              " '197.png',\n",
              " '521.png',\n",
              " '3295.png',\n",
              " '8291.png',\n",
              " '2659.png',\n",
              " '883.png',\n",
              " '3194.png',\n",
              " '8475.png',\n",
              " '8624.png',\n",
              " '8556.png',\n",
              " '8187.png',\n",
              " '7578.png',\n",
              " '6249.png',\n",
              " '229.png',\n",
              " '9478.png',\n",
              " '8555.png',\n",
              " '1172.png',\n",
              " '8498.png',\n",
              " '2057.png',\n",
              " '8367.png',\n",
              " '9244.png',\n",
              " '7559.png',\n",
              " '9984.png',\n",
              " '5268.png',\n",
              " '467.png',\n",
              " '6587.png',\n",
              " '9084.png',\n",
              " '4473.png',\n",
              " '1436.png',\n",
              " '7956.png',\n",
              " '3071.png',\n",
              " '3199.png',\n",
              " '7257.png',\n",
              " '917.png',\n",
              " '7829.png',\n",
              " '5524.png',\n",
              " '5344.png',\n",
              " '3703.png',\n",
              " '5078.png',\n",
              " '9448.png',\n",
              " '4017.png',\n",
              " '5765.png',\n",
              " '1916.png',\n",
              " '7393.png',\n",
              " '5680.png',\n",
              " '9788.png',\n",
              " '9147.png',\n",
              " '8153.png',\n",
              " '6580.png',\n",
              " '3725.png',\n",
              " '1246.png',\n",
              " '25.png',\n",
              " '8820.png',\n",
              " '4447.png',\n",
              " '9132.png',\n",
              " '4172.png',\n",
              " '38.png',\n",
              " '1248.png',\n",
              " '1318.png',\n",
              " '4530.png',\n",
              " '2531.png',\n",
              " '4267.png',\n",
              " '8265.png',\n",
              " '565.png',\n",
              " '5234.png',\n",
              " '2703.png',\n",
              " '1088.png',\n",
              " '6754.png',\n",
              " '3868.png',\n",
              " '6009.png',\n",
              " '2672.png',\n",
              " '6404.png',\n",
              " '2303.png',\n",
              " '8428.png',\n",
              " '9653.png',\n",
              " '423.png',\n",
              " '2660.png',\n",
              " '4840.png',\n",
              " '9939.png',\n",
              " '6301.png',\n",
              " '3898.png',\n",
              " '773.png',\n",
              " '1434.png',\n",
              " '829.png',\n",
              " '6490.png',\n",
              " '2087.png',\n",
              " '5163.png',\n",
              " '9973.png',\n",
              " '9140.png',\n",
              " '7186.png',\n",
              " '8111.png',\n",
              " '6318.png',\n",
              " '6715.png',\n",
              " '9630.png',\n",
              " '6294.png',\n",
              " '1245.png',\n",
              " '6724.png',\n",
              " '7272.png',\n",
              " '192.png',\n",
              " '3523.png',\n",
              " '6881.png',\n",
              " '972.png',\n",
              " '9014.png',\n",
              " '3811.png',\n",
              " '6429.png',\n",
              " '1703.png',\n",
              " '949.png',\n",
              " '7121.png',\n",
              " '3451.png',\n",
              " '7441.png',\n",
              " '9249.png',\n",
              " '1873.png',\n",
              " '1156.png',\n",
              " '3355.png',\n",
              " '7741.png',\n",
              " '3650.png',\n",
              " '532.png',\n",
              " '2392.png',\n",
              " '4700.png',\n",
              " '6139.png',\n",
              " '6463.png',\n",
              " '9747.png',\n",
              " '5436.png',\n",
              " '6966.png',\n",
              " '2782.png',\n",
              " '1103.png',\n",
              " '7350.png',\n",
              " '4122.png',\n",
              " '754.png',\n",
              " '8802.png',\n",
              " '2254.png',\n",
              " '1808.png',\n",
              " '645.png',\n",
              " '8928.png',\n",
              " '6264.png',\n",
              " '6185.png',\n",
              " '4478.png',\n",
              " '5795.png',\n",
              " '6628.png',\n",
              " '3850.png',\n",
              " '9388.png',\n",
              " '2078.png',\n",
              " '7873.png',\n",
              " '7273.png',\n",
              " '2742.png',\n",
              " '6959.png',\n",
              " '6579.png',\n",
              " '7144.png',\n",
              " '1711.png',\n",
              " '1525.png',\n",
              " '7713.png',\n",
              " '2547.png',\n",
              " '5323.png',\n",
              " '3800.png',\n",
              " '3287.png',\n",
              " '5605.png',\n",
              " '1650.png',\n",
              " '1421.png',\n",
              " '5726.png',\n",
              " '3654.png',\n",
              " '1180.png',\n",
              " '8477.png',\n",
              " '4328.png',\n",
              " '4701.png',\n",
              " '1440.png',\n",
              " '3624.png',\n",
              " '3899.png',\n",
              " '1585.png',\n",
              " '3673.png',\n",
              " '6573.png',\n",
              " '4227.png',\n",
              " '6214.png',\n",
              " '3238.png',\n",
              " '6644.png',\n",
              " '7072.png',\n",
              " '4052.png',\n",
              " '5421.png',\n",
              " '3380.png',\n",
              " '7955.png',\n",
              " '613.png',\n",
              " '7553.png',\n",
              " '8411.png',\n",
              " '8061.png',\n",
              " '4546.png',\n",
              " '1915.png',\n",
              " '8687.png',\n",
              " '8206.png',\n",
              " '546.png',\n",
              " '2308.png',\n",
              " '3026.png',\n",
              " '9409.png',\n",
              " '8895.png',\n",
              " '813.png',\n",
              " '7657.png',\n",
              " '3754.png',\n",
              " '1170.png',\n",
              " '7981.png',\n",
              " '5967.png',\n",
              " '6523.png',\n",
              " '3216.png',\n",
              " '3884.png',\n",
              " '7446.png',\n",
              " '8419.png',\n",
              " '17.png',\n",
              " '691.png',\n",
              " '9097.png',\n",
              " '2209.png',\n",
              " '6394.png',\n",
              " '1898.png',\n",
              " '3990.png',\n",
              " '5181.png',\n",
              " '659.png',\n",
              " '5129.png',\n",
              " '7679.png',\n",
              " '9624.png',\n",
              " '9128.png',\n",
              " '1790.png',\n",
              " '1024.png',\n",
              " '105.png',\n",
              " '1045.png',\n",
              " '7165.png',\n",
              " '4540.png',\n",
              " '2561.png',\n",
              " '3756.png',\n",
              " '3619.png',\n",
              " '9780.png',\n",
              " '5368.png',\n",
              " '3862.png',\n",
              " '3060.png',\n",
              " '6218.png',\n",
              " '4334.png',\n",
              " '9426.png',\n",
              " '5714.png',\n",
              " '7094.png',\n",
              " '3763.png',\n",
              " ...]"
            ]
          },
          "metadata": {},
          "execution_count": 60
        }
      ]
    },
    {
      "cell_type": "code",
      "source": [
        "test_list_set = set(l)\n",
        "if '7194.png' in test_list_set :\n",
        "    print (\"Element Exists\")"
      ],
      "metadata": {
        "colab": {
          "base_uri": "https://localhost:8080/"
        },
        "id": "eGCdsYYV1_Ia",
        "outputId": "b90a1d9c-ba64-4fd7-da2a-340bdfb5920c"
      },
      "execution_count": null,
      "outputs": [
        {
          "output_type": "stream",
          "name": "stdout",
          "text": [
            "Element Exists\n"
          ]
        }
      ]
    },
    {
      "cell_type": "code",
      "source": [
        "df = pd.read_csv(\"/content/drive/MyDrive/minset/test/test.csv\")\n",
        "df = df[pd.DataFrame(df.FileName.tolist()).isin(l).any(1).values]\n",
        "df.to_csv(\"/content/drive/MyDrive/minset/my_csv.csv\",index= False)"
      ],
      "metadata": {
        "id": "cz6yIpp80jOp"
      },
      "execution_count": null,
      "outputs": []
    },
    {
      "cell_type": "code",
      "source": [
        "df.shape"
      ],
      "metadata": {
        "colab": {
          "base_uri": "https://localhost:8080/"
        },
        "id": "v0kV8OQe0v2B",
        "outputId": "63889cd6-7013-4820-af29-3ab398cf267b"
      },
      "execution_count": null,
      "outputs": [
        {
          "output_type": "execute_result",
          "data": {
            "text/plain": [
              "(10000, 2)"
            ]
          },
          "metadata": {},
          "execution_count": 54
        }
      ]
    },
    {
      "cell_type": "code",
      "source": [
        "PATH = \"/content/drive/MyDrive/minset/model2.pt\"\n",
        "model = Net()\n",
        "model.load_state_dict(torch.load(PATH))\n",
        "model.eval()"
      ],
      "metadata": {
        "colab": {
          "base_uri": "https://localhost:8080/",
          "height": 412
        },
        "id": "gqrNRJH-esTi",
        "outputId": "0f67b1d9-9a7a-44e6-8d56-e00ba9fa5723"
      },
      "execution_count": null,
      "outputs": [
        {
          "output_type": "error",
          "ename": "RuntimeError",
          "evalue": "ignored",
          "traceback": [
            "\u001b[0;31m---------------------------------------------------------------------------\u001b[0m",
            "\u001b[0;31mRuntimeError\u001b[0m                              Traceback (most recent call last)",
            "\u001b[0;32m<ipython-input-78-3b93f74164b2>\u001b[0m in \u001b[0;36m<module>\u001b[0;34m()\u001b[0m\n\u001b[1;32m      1\u001b[0m \u001b[0mPATH\u001b[0m \u001b[0;34m=\u001b[0m \u001b[0;34m\"/content/drive/MyDrive/minset/model2.pt\"\u001b[0m\u001b[0;34m\u001b[0m\u001b[0;34m\u001b[0m\u001b[0m\n\u001b[1;32m      2\u001b[0m \u001b[0mmodel\u001b[0m \u001b[0;34m=\u001b[0m \u001b[0mNet\u001b[0m\u001b[0;34m(\u001b[0m\u001b[0;34m)\u001b[0m\u001b[0;34m\u001b[0m\u001b[0;34m\u001b[0m\u001b[0m\n\u001b[0;32m----> 3\u001b[0;31m \u001b[0mmodel\u001b[0m\u001b[0;34m.\u001b[0m\u001b[0mload_state_dict\u001b[0m\u001b[0;34m(\u001b[0m\u001b[0mtorch\u001b[0m\u001b[0;34m.\u001b[0m\u001b[0mload\u001b[0m\u001b[0;34m(\u001b[0m\u001b[0mPATH\u001b[0m\u001b[0;34m)\u001b[0m\u001b[0;34m)\u001b[0m\u001b[0;34m\u001b[0m\u001b[0;34m\u001b[0m\u001b[0m\n\u001b[0m\u001b[1;32m      4\u001b[0m \u001b[0mmodel\u001b[0m\u001b[0;34m.\u001b[0m\u001b[0meval\u001b[0m\u001b[0;34m(\u001b[0m\u001b[0;34m)\u001b[0m\u001b[0;34m\u001b[0m\u001b[0;34m\u001b[0m\u001b[0m\n",
            "\u001b[0;32m/usr/local/lib/python3.7/dist-packages/torch/nn/modules/module.py\u001b[0m in \u001b[0;36mload_state_dict\u001b[0;34m(self, state_dict, strict)\u001b[0m\n\u001b[1;32m   1496\u001b[0m         \u001b[0;32mif\u001b[0m \u001b[0mlen\u001b[0m\u001b[0;34m(\u001b[0m\u001b[0merror_msgs\u001b[0m\u001b[0;34m)\u001b[0m \u001b[0;34m>\u001b[0m \u001b[0;36m0\u001b[0m\u001b[0;34m:\u001b[0m\u001b[0;34m\u001b[0m\u001b[0;34m\u001b[0m\u001b[0m\n\u001b[1;32m   1497\u001b[0m             raise RuntimeError('Error(s) in loading state_dict for {}:\\n\\t{}'.format(\n\u001b[0;32m-> 1498\u001b[0;31m                                self.__class__.__name__, \"\\n\\t\".join(error_msgs)))\n\u001b[0m\u001b[1;32m   1499\u001b[0m         \u001b[0;32mreturn\u001b[0m \u001b[0m_IncompatibleKeys\u001b[0m\u001b[0;34m(\u001b[0m\u001b[0mmissing_keys\u001b[0m\u001b[0;34m,\u001b[0m \u001b[0munexpected_keys\u001b[0m\u001b[0;34m)\u001b[0m\u001b[0;34m\u001b[0m\u001b[0;34m\u001b[0m\u001b[0m\n\u001b[1;32m   1500\u001b[0m \u001b[0;34m\u001b[0m\u001b[0m\n",
            "\u001b[0;31mRuntimeError\u001b[0m: Error(s) in loading state_dict for Net:\n\tMissing key(s) in state_dict: \"model.0.weight\", \"model.0.bias\", \"model.1.weight\", \"model.1.bias\", \"model.2.weight\", \"model.2.bias\", \"model.3.weight\", \"model.3.bias\", \"fc.weight\", \"fc.bias\". \n\tUnexpected key(s) in state_dict: \"model_state_dict\". "
          ]
        }
      ]
    }
  ],
  "metadata": {
    "accelerator": "GPU",
    "colab": {
      "collapsed_sections": [],
      "name": "DL_Assifnment_3.ipynb",
      "provenance": []
    },
    "kernelspec": {
      "display_name": "Python 3",
      "name": "python3"
    },
    "language_info": {
      "name": "python"
    }
  },
  "nbformat": 4,
  "nbformat_minor": 0
}